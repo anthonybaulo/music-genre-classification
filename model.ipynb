{
 "cells": [
  {
   "cell_type": "code",
   "execution_count": 9,
   "metadata": {},
   "outputs": [
    {
     "name": "stdout",
     "output_type": "stream",
     "text": [
      "The autoreload extension is already loaded. To reload it, use:\n",
      "  %reload_ext autoreload\n"
     ]
    }
   ],
   "source": [
    "import os\n",
    "import numpy as np\n",
    "import librosa\n",
    "import librosa.display\n",
    "import pandas as pd\n",
    "import matplotlib.pyplot as plt\n",
    "from pathlib import Path\n",
    "\n",
    "import tensorflow as tf\n",
    "from tensorflow.keras.models import Sequential, Model\n",
    "from tensorflow.keras.models import Sequential, Model\n",
    "from tensorflow.keras.layers import Input, Dense, TimeDistributed, LSTM, Dropout, Activation\n",
    "from tensorflow.keras.layers import MaxPooling2D, Flatten, Conv2D, BatchNormalization \n",
    "from tensorflow.keras.layers import Lambda, ELU\n",
    "from tensorflow.keras.callbacks import ModelCheckpoint, TensorBoard, ReduceLROnPlateau\n",
    "from tensorflow.keras import backend\n",
    "from tensorflow.keras.optimizers import Adam, RMSprop\n",
    "from tensorflow.keras import regularizers\n",
    "\n",
    "import warnings\n",
    "warnings.filterwarnings('ignore')\n",
    "\n",
    "%matplotlib inline"
   ]
  },
  {
   "cell_type": "code",
   "execution_count": 4,
   "metadata": {},
   "outputs": [],
   "source": [
    "META_DIR = Path('data/fma_metadata')\n",
    "AUDIO_DIR = Path('data/fma_small')\n",
    "CONVERTED_DIR = Path('data/converted/rock_inst')"
   ]
  },
  {
   "cell_type": "code",
   "execution_count": 5,
   "metadata": {},
   "outputs": [
    {
     "name": "stdout",
     "output_type": "stream",
     "text": [
      "{0: 'Rock', 1: 'Instrumental'}\n"
     ]
    }
   ],
   "source": [
    "genre_dict = {'Rock':0, 'Instrumental': 1}\n",
    "\n",
    "reverse_map = {v: k for k, v in genre_dict.items()}\n",
    "print(reverse_map)"
   ]
  },
  {
   "cell_type": "code",
   "execution_count": 26,
   "metadata": {},
   "outputs": [
    {
     "name": "stdout",
     "output_type": "stream",
     "text": [
      "['X', 'y']\n",
      "(5, 640, 128) (5,)\n"
     ]
    }
   ],
   "source": [
    "npzfile = np.load(CONVERTED_DIR/'train_arr.npz')\n",
    "X_train = npzfile['X']\n",
    "y_train = npzfile['y']\n",
    "# print(X_train.shape, y_train.shape)"
   ]
  },
  {
   "cell_type": "code",
   "execution_count": 27,
   "metadata": {},
   "outputs": [
    {
     "name": "stdout",
     "output_type": "stream",
     "text": [
      "['X', 'y']\n",
      "(1, 640, 128) (1,)\n"
     ]
    }
   ],
   "source": [
    "npzfile = np.load(CONVERTED_DIR/'valid_arr.npz')\n",
    "X_valid = npzfile['X']\n",
    "y_valid = npzfile['y']\n",
    "# print(X_valid.shape, y_valid.shape)"
   ]
  },
  {
   "cell_type": "code",
   "execution_count": 30,
   "metadata": {},
   "outputs": [],
   "source": [
    "# Sanity check - plot Spectogram\n",
    "\n",
    "# num = 0\n",
    "# spectogram = X_train[num]\n",
    "# genre = np.argmax(y_train[num])\n",
    "# print(reverse_map[genre])\n",
    "# plt.figure(figsize=(10, 5))\n",
    "# librosa.display.specshow(spectogram.T, y_axis='mel', x_axis='time')\n",
    "# plt.colorbar(format='%+2.0f dB')\n",
    "# plt.title('Test Melspectogram')\n",
    "# plt.tight_layout()"
   ]
  },
  {
   "cell_type": "code",
   "execution_count": 21,
   "metadata": {},
   "outputs": [],
   "source": [
    "# Add dimension for single channel for Conv2D\n",
    "X_train = X_train[...,None]\n",
    "X_valid = X_valid[...,None]"
   ]
  },
  {
   "cell_type": "code",
   "execution_count": 22,
   "metadata": {},
   "outputs": [
    {
     "data": {
      "text/plain": [
       "(5, 640, 128, 1)"
      ]
     },
     "execution_count": 22,
     "metadata": {},
     "output_type": "execute_result"
    }
   ],
   "source": [
    "X_train.shape"
   ]
  },
  {
   "cell_type": "code",
   "execution_count": 23,
   "metadata": {},
   "outputs": [],
   "source": [
    "model = Sequential()\n",
    "\n",
    "model.add(Conv2D(64, (7, 7), input_shape = (640, 128, 1), activation='relu'))\n",
    "model.add(MaxPooling2D(pool_size = (2, 2)))\n",
    "model.add(Dropout(0.3))\n",
    "\n",
    "model.add(Conv2D(32, (3, 3), activation='relu'))\n",
    "model.add(MaxPooling2D(pool_size = (2, 2)))\n",
    "model.add(Dropout(0.3))\n",
    "\n",
    "model.add(Flatten())\n",
    "model.add(Dense(units = 64, activation = 'relu'))\n",
    "model.add(Dropout(0.3))\n",
    "\n",
    "model.add(Dense(units = 1, activation = 'sigmoid'))\n",
    "model.compile(optimizer = 'adam', loss = 'binary_crossentropy', metrics = ['accuracy'])\n"
   ]
  },
  {
   "cell_type": "code",
   "execution_count": 24,
   "metadata": {},
   "outputs": [
    {
     "name": "stdout",
     "output_type": "stream",
     "text": [
      "Train on 5 samples, validate on 1 samples\n",
      "Epoch 1/2\n",
      "5/5 [==============================] - 5s 1s/sample - loss: 1.4774 - accuracy: 0.8000 - val_loss: 0.0000e+00 - val_accuracy: 1.0000\n",
      "Epoch 2/2\n",
      "5/5 [==============================] - 2s 378ms/sample - loss: 434.4389 - accuracy: 0.4000 - val_loss: 41.8413 - val_accuracy: 0.0000e+00\n"
     ]
    }
   ],
   "source": [
    "history = model.fit(X_train, y_train, batch_size=16, epochs=2,\n",
    "                    validation_data=(X_valid, y_valid), verbose=1)\n"
   ]
  },
  {
   "cell_type": "code",
   "execution_count": null,
   "metadata": {},
   "outputs": [],
   "source": []
  }
 ],
 "metadata": {
  "kernelspec": {
   "display_name": "Python 3",
   "language": "python",
   "name": "python3"
  },
  "language_info": {
   "codemirror_mode": {
    "name": "ipython",
    "version": 3
   },
   "file_extension": ".py",
   "mimetype": "text/x-python",
   "name": "python",
   "nbconvert_exporter": "python",
   "pygments_lexer": "ipython3",
   "version": "3.7.4"
  }
 },
 "nbformat": 4,
 "nbformat_minor": 4
}
