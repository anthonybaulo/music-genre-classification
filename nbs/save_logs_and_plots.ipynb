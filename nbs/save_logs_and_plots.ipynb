{
 "cells": [
  {
   "cell_type": "code",
   "execution_count": 13,
   "metadata": {},
   "outputs": [],
   "source": [
    "import os\n",
    "import sys\n",
    "import numpy as np\n",
    "import pandas as pd\n",
    "import matplotlib.pyplot as plt\n",
    "\n",
    "sys.path.append('../src')\n",
    "from datagen import DataGenerator\n",
    "%matplotlib inline\n",
    "\n",
    "from sklearn.metrics import confusion_matrix\n",
    "from matplotlib import cm\n",
    "import seaborn as sns"
   ]
  },
  {
   "cell_type": "code",
   "execution_count": 2,
   "metadata": {},
   "outputs": [],
   "source": [
    "import tensorflow as tf\n",
    "from tensorflow.keras.models import Sequential, Model, model_from_json\n",
    "from tensorflow.keras.layers import Input, Dense, TimeDistributed, LSTM, Dropout, Activation\n",
    "from tensorflow.keras.layers import MaxPooling2D, Flatten, Conv1D, \\\n",
    "                                    Conv2D, BatchNormalization, MaxPooling1D, \\\n",
    "                                    GlobalAveragePooling2D\n",
    "from tensorflow.keras.layers import Lambda, ELU\n",
    "from tensorflow.keras.callbacks import ModelCheckpoint, TensorBoard, ReduceLROnPlateau\n",
    "from tensorflow.keras import backend\n",
    "from tensorflow.keras.optimizers import Adam, RMSprop\n",
    "from tensorflow.keras import regularizers"
   ]
  },
  {
   "cell_type": "code",
   "execution_count": 3,
   "metadata": {},
   "outputs": [],
   "source": [
    "# Build model\n",
    "model = Sequential()\n",
    "\n",
    "model.add(Conv2D(32, (9, 9), input_shape = (128, 640, 1), \n",
    "                 padding='same', \n",
    "                 activation='relu'))\n",
    "model.add(MaxPooling2D(pool_size = (2, 2)))\n",
    "model.add(Dropout(0.2))\n",
    "\n",
    "model.add(Conv2D(64, (5, 5), activation='relu'))\n",
    "model.add(Conv2D(128, (3, 3), activation='relu'))\n",
    "model.add(GlobalAveragePooling2D())\n",
    "model.add(Dropout(0.3))\n",
    "\n",
    "model.add(Dense(units = 256, activation = 'relu'))\n",
    "model.add(Dropout(0.3))\n",
    "\n",
    "model.add(Dense(units = 128, activation = 'relu'))\n",
    "model.add(Dropout(0.3))\n",
    "\n",
    "model.add(Dense(units = 64, activation = 'relu'))\n",
    "model.add(Dropout(0.3))\n",
    "\n",
    "model.add(Dense(units = 2, activation = 'softmax'))\n",
    "\n",
    "opt = Adam(lr=0.001)\n",
    "model.compile(loss='categorical_crossentropy',\n",
    "              optimizer=opt,\n",
    "              metrics=['accuracy'])"
   ]
  },
  {
   "cell_type": "code",
   "execution_count": 4,
   "metadata": {},
   "outputs": [
    {
     "name": "stdout",
     "output_type": "stream",
     "text": [
      "Model: \"sequential\"\n",
      "_________________________________________________________________\n",
      "Layer (type)                 Output Shape              Param #   \n",
      "=================================================================\n",
      "conv2d (Conv2D)              (None, 128, 640, 32)      2624      \n",
      "_________________________________________________________________\n",
      "max_pooling2d (MaxPooling2D) (None, 64, 320, 32)       0         \n",
      "_________________________________________________________________\n",
      "dropout (Dropout)            (None, 64, 320, 32)       0         \n",
      "_________________________________________________________________\n",
      "conv2d_1 (Conv2D)            (None, 60, 316, 64)       51264     \n",
      "_________________________________________________________________\n",
      "conv2d_2 (Conv2D)            (None, 58, 314, 128)      73856     \n",
      "_________________________________________________________________\n",
      "global_average_pooling2d (Gl (None, 128)               0         \n",
      "_________________________________________________________________\n",
      "dropout_1 (Dropout)          (None, 128)               0         \n",
      "_________________________________________________________________\n",
      "dense (Dense)                (None, 256)               33024     \n",
      "_________________________________________________________________\n",
      "dropout_2 (Dropout)          (None, 256)               0         \n",
      "_________________________________________________________________\n",
      "dense_1 (Dense)              (None, 128)               32896     \n",
      "_________________________________________________________________\n",
      "dropout_3 (Dropout)          (None, 128)               0         \n",
      "_________________________________________________________________\n",
      "dense_2 (Dense)              (None, 64)                8256      \n",
      "_________________________________________________________________\n",
      "dropout_4 (Dropout)          (None, 64)                0         \n",
      "_________________________________________________________________\n",
      "dense_3 (Dense)              (None, 2)                 130       \n",
      "=================================================================\n",
      "Total params: 202,050\n",
      "Trainable params: 202,050\n",
      "Non-trainable params: 0\n",
      "_________________________________________________________________\n"
     ]
    }
   ],
   "source": [
    "model.summary()"
   ]
  },
  {
   "cell_type": "markdown",
   "metadata": {},
   "source": [
    "### Save best model and Reduce LR"
   ]
  },
  {
   "cell_type": "code",
   "execution_count": 5,
   "metadata": {},
   "outputs": [],
   "source": [
    "# checkpoint_callback = ModelCheckpoint('../models/model2_with_datagen_best_val_loss.h5', \n",
    "#                                       monitor='val_loss', mode='min',\n",
    "#                                       save_best_only=True, verbose=1)\n",
    "\n",
    "reducelr_callback = ReduceLROnPlateau(monitor='val_loss', mode='min', factor=0.8, \n",
    "                                      patience=2, min_delta=0.005, verbose=1)\n",
    "\n",
    "callbacks_list = [reducelr_callback]"
   ]
  },
  {
   "cell_type": "code",
   "execution_count": 7,
   "metadata": {},
   "outputs": [],
   "source": [
    "train_datagen = DataGenerator('../data/training', include=['Rock', 'Hip-Hop'], \n",
    "                              batch_size=64, dim=(128,640), \n",
    "                              n_channels=1, test=False)"
   ]
  },
  {
   "cell_type": "code",
   "execution_count": 8,
   "metadata": {},
   "outputs": [],
   "source": [
    "valid_datagen = DataGenerator('../data/validation', include=['Rock', 'Hip-Hop'],\n",
    "                              batch_size=16, dim=(128,640), \n",
    "                              n_channels=1, test=False)"
   ]
  },
  {
   "cell_type": "code",
   "execution_count": 9,
   "metadata": {},
   "outputs": [],
   "source": [
    "test_datagen = DataGenerator('../data/test', include=['Rock', 'Hip-Hop'],\n",
    "                             batch_size=1, dim=(128,640), \n",
    "                             n_channels=1, test=True)"
   ]
  },
  {
   "cell_type": "code",
   "execution_count": 10,
   "metadata": {},
   "outputs": [
    {
     "name": "stderr",
     "output_type": "stream",
     "text": [
      "WARNING: Logging before flag parsing goes to stderr.\n",
      "W1108 21:28:49.726671 139764956636992 deprecation.py:323] From /opt/conda/envs/tf2/lib/python3.7/site-packages/tensorflow/python/ops/math_grad.py:1250: add_dispatch_support.<locals>.wrapper (from tensorflow.python.ops.array_ops) is deprecated and will be removed in a future version.\n",
      "Instructions for updating:\n",
      "Use tf.where in 2.0, which has the same broadcast rule as np.where\n"
     ]
    },
    {
     "name": "stdout",
     "output_type": "stream",
     "text": [
      "Epoch 1/2\n",
      "24/24 [==============================] - 21s 884ms/step - loss: 0.6943 - accuracy: 0.4987 - val_loss: 0.6926 - val_accuracy: 0.4844\n",
      "Epoch 2/2\n",
      "24/24 [==============================] - 15s 608ms/step - loss: 0.6924 - accuracy: 0.5241 - val_loss: 0.6923 - val_accuracy: 0.4844\n"
     ]
    }
   ],
   "source": [
    "history = model.fit_generator(generator=train_datagen, epochs=2,\n",
    "                              validation_data=valid_datagen, verbose=1, \n",
    "                              callbacks=callbacks_list)"
   ]
  },
  {
   "cell_type": "code",
   "execution_count": 97,
   "metadata": {},
   "outputs": [],
   "source": [
    "# model.save_weights('models/test.h5')"
   ]
  },
  {
   "cell_type": "markdown",
   "metadata": {},
   "source": [
    "### Save model"
   ]
  },
  {
   "cell_type": "code",
   "execution_count": 98,
   "metadata": {},
   "outputs": [],
   "source": [
    "def save_model_to_json(model, fpath):\n",
    "    model_json = model.to_json()\n",
    "    with open(fpath, \"w\") as json_file:\n",
    "        json_file.write(model_json)"
   ]
  },
  {
   "cell_type": "code",
   "execution_count": 99,
   "metadata": {},
   "outputs": [],
   "source": [
    "save_model_to_json(model, 'models/test.json')"
   ]
  },
  {
   "cell_type": "markdown",
   "metadata": {},
   "source": [
    "### Load"
   ]
  },
  {
   "cell_type": "code",
   "execution_count": 109,
   "metadata": {},
   "outputs": [],
   "source": [
    "def load_compile_model(json_path, weights_path, opt='adam'):\n",
    "    with open(json_path, 'r') as json_file:\n",
    "        loaded_json = json_file.read()\n",
    "    loaded = model_from_json(loaded_json)\n",
    "    loaded.load_weights(weights_path)\n",
    "    loaded.compile(loss='categorical_crossentropy',\n",
    "                   optimizer=opt,\n",
    "                   metrics=['accuracy'])\n",
    "    return loaded"
   ]
  },
  {
   "cell_type": "code",
   "execution_count": 110,
   "metadata": {},
   "outputs": [],
   "source": [
    "loaded = load_compile_model('models/test.json', 'models/test.h5', opt='adam')"
   ]
  },
  {
   "cell_type": "markdown",
   "metadata": {},
   "source": [
    "## Create functions to save visuals"
   ]
  },
  {
   "cell_type": "code",
   "execution_count": 58,
   "metadata": {},
   "outputs": [],
   "source": [
    "import matplotlib.pyplot as plt\n",
    "\n",
    "def save_summary_plots(history, fpath='plt.png', dpi=200):\n",
    "    fig, axes = plt.subplots(1, 2, figsize=(13,5))\n",
    "    ax1, ax2 = axes.flatten()\n",
    "    \n",
    "    # Accuracy\n",
    "    ax1.plot(history.history['accuracy'])\n",
    "    ax1.plot(history.history['val_accuracy'])\n",
    "    ax1.set_title('Model Accuracy')\n",
    "    ax1.set_ylabel('Accuracy')\n",
    "    ax1.set_xlabel('Epoch')\n",
    "    ax1.legend(['Train', 'Test'], loc='best')\n",
    "\n",
    "    # Loss\n",
    "    ax2.plot(history.history['loss'])\n",
    "    ax2.plot(history.history['val_loss'])\n",
    "    ax2.set_title('Model Loss')\n",
    "    ax2.set_ylabel('Loss')\n",
    "    ax2.set_xlabel('Epoch')\n",
    "    ax2.legend(['Train', 'Test'], loc='best')\n",
    "    \n",
    "    plt.subplots_adjust(wspace=0.3)\n",
    "\n",
    "    plt.savefig(fpath, dpi=dpi)\n"
   ]
  },
  {
   "cell_type": "code",
   "execution_count": 59,
   "metadata": {},
   "outputs": [
    {
     "data": {
      "image/png": "[encoded data removed]",
      "text/plain": [
       "<Figure size 936x360 with 2 Axes>"
      ]
     },
     "metadata": {
      "needs_background": "light"
     },
     "output_type": "display_data"
    }
   ],
   "source": [
    "save_summary_plots(history, fpath='test.png')"
   ]
  },
  {
   "cell_type": "code",
   "execution_count": 11,
   "metadata": {},
   "outputs": [],
   "source": [
    "def get_true_pred_targets(model, test_datagen):\n",
    "    y_pred = model.predict_generator(test_datagen)\n",
    "    y_pred = np.argmax(y_pred, axis=1)\n",
    "\n",
    "    y_true = test_datagen.test_labels\n",
    "    y_true = np.argmax(y_true, axis=1)\n",
    "\n",
    "    target_names = sorted(test_datagen.label_dict.keys())\n",
    "    return y_true, y_pred, target_names"
   ]
  },
  {
   "cell_type": "code",
   "execution_count": 12,
   "metadata": {},
   "outputs": [],
   "source": [
    "y_true, y_pred, target_names = get_true_pred_targets(model, test_datagen)"
   ]
  },
  {
   "cell_type": "code",
   "execution_count": 36,
   "metadata": {},
   "outputs": [],
   "source": [
    "def save_confusion_matrix(y_true, y_pred, target_names, fpath='cm.png', dpi=200):\n",
    "    fig, ax = plt.subplots(figsize=(7,6))\n",
    "    \n",
    "    mat = confusion_matrix(y_true, y_pred)\n",
    "\n",
    "    sns.heatmap(mat.T, square=True, annot=True, fmt='d', \n",
    "                cbar=True, cmap=cm.Reds,\n",
    "                xticklabels=target_names,\n",
    "                yticklabels=target_names,\n",
    "                ax=ax)\n",
    "\n",
    "    plt.xticks(rotation=45)\n",
    "    plt.yticks(rotation=45)\n",
    "    plt.xlabel('Actual', size=15)\n",
    "    plt.ylabel('Predicted', size=15)\n",
    "    plt.margins(4)\n",
    "    plt.savefig(fpath, dpi=dpi, bbox_inches='tight', pad_inches=0.2)"
   ]
  },
  {
   "cell_type": "code",
   "execution_count": 37,
   "metadata": {},
   "outputs": [
    {
     "data": {
      "image/png": "[encoded data removed]",
      "text/plain": [
       "<Figure size 504x432 with 2 Axes>"
      ]
     },
     "metadata": {
      "needs_background": "light"
     },
     "output_type": "display_data"
    }
   ],
   "source": [
    "save_confusion_matrix(y_true, y_pred, target_names, fpath='cm.png', dpi=100)"
   ]
  },
  {
   "cell_type": "markdown",
   "metadata": {},
   "source": [
    "### Functions to save metrics and hyperparams"
   ]
  },
  {
   "cell_type": "code",
   "execution_count": 74,
   "metadata": {},
   "outputs": [],
   "source": [
    "acc = model.evaluate_generator(test_datagen)[1]"
   ]
  },
  {
   "cell_type": "code",
   "execution_count": 75,
   "metadata": {},
   "outputs": [
    {
     "data": {
      "text/plain": [
       "0.875"
      ]
     },
     "execution_count": 75,
     "metadata": {},
     "output_type": "execute_result"
    }
   ],
   "source": [
    "acc"
   ]
  },
  {
   "cell_type": "code",
   "execution_count": 81,
   "metadata": {},
   "outputs": [
    {
     "data": {
      "text/plain": [
       "{'Hip-Hop': {'precision': 0.8571428571428571,\n",
       "  'recall': 0.9,\n",
       "  'f1-score': 0.8780487804878048,\n",
       "  'support': 100},\n",
       " 'Rock': {'precision': 0.8947368421052632,\n",
       "  'recall': 0.85,\n",
       "  'f1-score': 0.8717948717948718,\n",
       "  'support': 100},\n",
       " 'accuracy': 0.875,\n",
       " 'macro avg': {'precision': 0.8759398496240601,\n",
       "  'recall': 0.875,\n",
       "  'f1-score': 0.8749218261413383,\n",
       "  'support': 200},\n",
       " 'weighted avg': {'precision': 0.8759398496240601,\n",
       "  'recall': 0.875,\n",
       "  'f1-score': 0.8749218261413384,\n",
       "  'support': 200}}"
      ]
     },
     "execution_count": 81,
     "metadata": {},
     "output_type": "execute_result"
    }
   ],
   "source": [
    "from sklearn.metrics import classification_report\n",
    "\n",
    "classification_report(y_true, y_pred, target_names=target_names, output_dict=True)"
   ]
  },
  {
   "cell_type": "code",
   "execution_count": null,
   "metadata": {},
   "outputs": [],
   "source": []
  },
  {
   "cell_type": "code",
   "execution_count": null,
   "metadata": {},
   "outputs": [],
   "source": []
  },
  {
   "cell_type": "code",
   "execution_count": null,
   "metadata": {},
   "outputs": [],
   "source": []
  },
  {
   "cell_type": "code",
   "execution_count": null,
   "metadata": {},
   "outputs": [],
   "source": []
  },
  {
   "cell_type": "code",
   "execution_count": null,
   "metadata": {},
   "outputs": [],
   "source": []
  },
  {
   "cell_type": "markdown",
   "metadata": {},
   "source": [
    "## Scrap"
   ]
  },
  {
   "cell_type": "code",
   "execution_count": 121,
   "metadata": {},
   "outputs": [],
   "source": [
    "subdirs = sorted(os.listdir(filepath))\n",
    "labels = np.arange(len(subdirs))"
   ]
  },
  {
   "cell_type": "code",
   "execution_count": 124,
   "metadata": {},
   "outputs": [
    {
     "data": {
      "text/plain": [
       "{'Hip-Hop': 0, 'Instrumental': 1, 'Rock': 2}"
      ]
     },
     "execution_count": 124,
     "metadata": {},
     "output_type": "execute_result"
    }
   ],
   "source": [
    "{k:v for k,v in zip(subdirs, labels)}"
   ]
  },
  {
   "cell_type": "code",
   "execution_count": 72,
   "metadata": {},
   "outputs": [],
   "source": [
    "label_dict = {\n",
    "    'Rock': 0,\n",
    "    'Instrumental': 1,    \n",
    "    'Hip-Hop': 2,\n",
    "    'Folk': 3,\n",
    "    'International': 4,            \n",
    "    'Electronic': 5,\n",
    "    'Experimental': 6,   \n",
    "    'Pop': 7 \n",
    "}"
   ]
  },
  {
   "cell_type": "code",
   "execution_count": 73,
   "metadata": {},
   "outputs": [
    {
     "data": {
      "text/plain": [
       "8"
      ]
     },
     "execution_count": 73,
     "metadata": {},
     "output_type": "execute_result"
    }
   ],
   "source": [
    "len(label_dict)"
   ]
  },
  {
   "cell_type": "code",
   "execution_count": 97,
   "metadata": {},
   "outputs": [],
   "source": [
    "# Create list of filenames in a directory\n",
    "\n",
    "filepath = 'data/test'\n",
    "def __get_files(filepath):\n",
    "    subdirs = os.listdir(filepath)\n",
    "    all_files = []\n",
    "\n",
    "    for subdir in subdirs:\n",
    "        full_dir = os.path.join(filepath, subdir)\n",
    "        files = os.listdir(full_dir)\n",
    "        for file in files:\n",
    "            all_files.append(os.path.join(subdir, file))\n",
    "\n",
    "    return np.array(all_files)"
   ]
  },
  {
   "cell_type": "code",
   "execution_count": 98,
   "metadata": {},
   "outputs": [],
   "source": [
    "all_files = __get_files(filepath)"
   ]
  },
  {
   "cell_type": "code",
   "execution_count": 101,
   "metadata": {},
   "outputs": [
    {
     "data": {
      "text/plain": [
       "array(['Hip-Hop/132117.npy', 'Hip-Hop/110771.npy', 'Hip-Hop/140626.npy'],\n",
       "      dtype='<U23')"
      ]
     },
     "execution_count": 101,
     "metadata": {},
     "output_type": "execute_result"
    }
   ],
   "source": [
    "idxs = [0,33,99]\n",
    "all_files[idxs]"
   ]
  },
  {
   "cell_type": "code",
   "execution_count": 105,
   "metadata": {},
   "outputs": [],
   "source": [
    "batch_size = 5\n",
    "\n",
    "npy = np.load(os.path.join(filepath, all_files[0]))\n",
    "shape = npy.shape\n",
    "\n",
    "channels = 1\n",
    "n_classes = 2"
   ]
  },
  {
   "cell_type": "code",
   "execution_count": 112,
   "metadata": {},
   "outputs": [],
   "source": [
    "def __data_generation(all_files):\n",
    "    X = np.empty((batch_size, *shape, channels))\n",
    "    y = np.empty((batch_size), dtype=int)\n",
    "    \n",
    "    for i, file in enumerate(all_files[:batch_size]):\n",
    "        npy = np.load(os.path.join(filepath, file))\n",
    "        target = file.split('/')[0]\n",
    "        label = label_dict[target]\n",
    "        X[i,] = npy[:,:,None]\n",
    "        y[i,] = label\n",
    "    \n",
    "    return X, y\n",
    "# to_categorical(y, num_classes=n_classes, dtype='int')"
   ]
  },
  {
   "cell_type": "code",
   "execution_count": 113,
   "metadata": {},
   "outputs": [],
   "source": [
    "X, y = __data_generation(all_files)"
   ]
  },
  {
   "cell_type": "code",
   "execution_count": 114,
   "metadata": {},
   "outputs": [
    {
     "data": {
      "text/plain": [
       "array([2, 2, 2, 2, 2])"
      ]
     },
     "execution_count": 114,
     "metadata": {},
     "output_type": "execute_result"
    }
   ],
   "source": [
    "y"
   ]
  },
  {
   "cell_type": "code",
   "execution_count": 119,
   "metadata": {},
   "outputs": [
    {
     "data": {
      "text/plain": [
       "array([[0., 0., 1., 0., 0.],\n",
       "       [0., 0., 1., 0., 0.],\n",
       "       [0., 0., 1., 0., 0.],\n",
       "       [0., 0., 1., 0., 0.],\n",
       "       [0., 0., 1., 0., 0.]], dtype=float32)"
      ]
     },
     "execution_count": 119,
     "metadata": {},
     "output_type": "execute_result"
    }
   ],
   "source": [
    "to_categorical(y, num_classes=5)"
   ]
  },
  {
   "cell_type": "code",
   "execution_count": null,
   "metadata": {},
   "outputs": [],
   "source": []
  },
  {
   "cell_type": "code",
   "execution_count": 108,
   "metadata": {},
   "outputs": [],
   "source": [
    "X = np.empty((batch_size, *shape, channels))"
   ]
  },
  {
   "cell_type": "code",
   "execution_count": 109,
   "metadata": {},
   "outputs": [
    {
     "data": {
      "text/plain": [
       "'Hip-Hop'"
      ]
     },
     "execution_count": 109,
     "metadata": {},
     "output_type": "execute_result"
    }
   ],
   "source": [
    "all_files[0].split('/')[0]"
   ]
  },
  {
   "cell_type": "code",
   "execution_count": null,
   "metadata": {},
   "outputs": [],
   "source": []
  }
 ],
 "metadata": {
  "kernelspec": {
   "display_name": "Python [conda env:tf2]",
   "language": "python",
   "name": "conda-env-tf2-py"
  },
  "language_info": {
   "codemirror_mode": {
    "name": "ipython",
    "version": 3
   },
   "file_extension": ".py",
   "mimetype": "text/x-python",
   "name": "python",
   "nbconvert_exporter": "python",
   "pygments_lexer": "ipython3",
   "version": "3.7.0"
  }
 },
 "nbformat": 4,
 "nbformat_minor": 4
}
