{
 "cells": [
  {
   "cell_type": "markdown",
   "metadata": {},
   "source": [
    "### Developing the DataGenerator"
   ]
  },
  {
   "cell_type": "code",
   "execution_count": 142,
   "metadata": {},
   "outputs": [],
   "source": [
    "import os\n",
    "import numpy as np\n",
    "import pandas as pd\n",
    "from tensorflow.keras.utils import to_categorical\n",
    "from tensorflow.keras.utils import Sequence\n",
    "\n",
    "# Inspired by https://stanford.edu/~shervine/blog/keras-how-to-generate-data-on-the-fly\n",
    "class DataGenerator(Sequence):\n",
    "    '''Generates .npy files for Conv2D'''\n",
    "    def __init__(self, data_dir, include=None, batch_size=32, \n",
    "                 dim=(128,640), n_channels=1, test=False):\n",
    "        '''\n",
    "        Parameters\n",
    "        ----------\n",
    "        data_dir : str\n",
    "            Path to data split (training, validation, or test)\n",
    "        include : list or None\n",
    "            Subdirectories to include\n",
    "            if None, include all\n",
    "        batch_size : int\n",
    "            Number of files to return at a time\n",
    "            Auto set to 1 if test=True\n",
    "        dim : tuple\n",
    "            Dimension of arrays to read in\n",
    "        n_channels : int\n",
    "            Number of color channels for image array\n",
    "        test : bool\n",
    "            If test split, store labels, do not shuffle indices,\n",
    "            and set batch_size to 1\n",
    "        '''\n",
    "        self.data_dir = data_dir\n",
    "        self.batch_size = batch_size\n",
    "        self.dim = dim\n",
    "        self.n_channels = n_channels\n",
    "        self.test = test\n",
    "        self.include = include\n",
    "        self.test_labels = None\n",
    "        \n",
    "        self.label_dict = self.__get_label_dict()\n",
    "        self.files = self.__get_files()\n",
    "        self.n_classes = len(self.label_dict)   # Number of sub dirs\n",
    "        self.on_epoch_end()                    # populates self.indexes\n",
    "        if self.test:\n",
    "            self.test_labels = np.empty((len(self.files), self.n_classes), dtype=int)\n",
    "            self.batch_size = 1\n",
    "            \n",
    "    def __len__(self):\n",
    "        '''Denotes the number of batches per epoch'''\n",
    "        return int(np.floor(len(self.files) / self.batch_size))\n",
    "\n",
    "    def __getitem__(self, index):\n",
    "        '''Generate one batch of data'''\n",
    "        # Generate indexes of the batch\n",
    "        idxs = self.indexes[index*self.batch_size : (index+1)*self.batch_size]\n",
    "\n",
    "        # Find list of IDs\n",
    "        file_list = self.files[idxs]\n",
    "\n",
    "        # Generate data\n",
    "        X, y = self.__data_generation(file_list)\n",
    "        \n",
    "        if self.test:\n",
    "            self.test_labels[idxs,] = y\n",
    "\n",
    "        return X, y\n",
    "\n",
    "    def on_epoch_end(self):\n",
    "        '''Updates indexes after each epoch'''\n",
    "        self.indexes = np.arange(len(self.files))\n",
    "        if not self.test:\n",
    "            np.random.shuffle(self.indexes) # Shuffles in place\n",
    "            \n",
    "    def __get_files(self):\n",
    "        '''Get all files from subdirectories of data_dir'''\n",
    "        subdirs = [k for k in self.label_dict.keys()]\n",
    "        all_files = []\n",
    "\n",
    "        for subdir in subdirs:\n",
    "            full_dir = os.path.join(self.data_dir, subdir)\n",
    "            files = os.listdir(full_dir)\n",
    "            for file in files:\n",
    "                all_files.append(os.path.join(subdir, file))\n",
    "\n",
    "        return np.array(all_files)\n",
    "\n",
    "    def __get_label_dict(self):\n",
    "        '''\n",
    "        Create dict of labels from sub directories\n",
    "        {Genre : int}\n",
    "        '''\n",
    "        subdirs = sorted(os.listdir(self.data_dir))\n",
    "        \n",
    "        # Only include specific sub dirs\n",
    "        if self.include:\n",
    "            subdirs = [s for s in subdirs if s in self.include]\n",
    "        \n",
    "        labels = np.arange(len(subdirs))\n",
    "        return {k:v for k,v in zip(subdirs, labels)}\n",
    "    \n",
    "    def __data_generation(self, file_list):\n",
    "        '''\n",
    "        Generates data containing batch_size samples\n",
    "        \n",
    "        Parameters\n",
    "        ----------\n",
    "        file_list : list or np.array\n",
    "            List of files to retrieve/process/load\n",
    "        \n",
    "        Returns\n",
    "        -------\n",
    "        X : (n_samples, *dim, n_channels)\n",
    "        \n",
    "        '''  \n",
    "        X = np.empty((self.batch_size, *self.dim, self.n_channels))\n",
    "        y = np.empty((self.batch_size), dtype=int)\n",
    "\n",
    "        for i, file in enumerate(file_list):\n",
    "            npy = np.load(os.path.join(self.data_dir, file))\n",
    "            target = file.split('/')[0]\n",
    "            label = self.label_dict[target]\n",
    "            X[i,] = npy[:,:,None]   # Create extra dim for channel\n",
    "            y[i,] = label\n",
    "\n",
    "        return X, to_categorical(y, num_classes=self.n_classes, dtype='int')"
   ]
  },
  {
   "cell_type": "code",
   "execution_count": 86,
   "metadata": {},
   "outputs": [
    {
     "data": {
      "text/plain": [
       "['Rock', 'Hip-Hop']"
      ]
     },
     "execution_count": 86,
     "metadata": {},
     "output_type": "execute_result"
    }
   ],
   "source": [
    "include=['Rock', 'Hip-Hop']\n",
    "sortd=['Rock', 'Hip-Hop', 'Instrumental']\n",
    "\n",
    "subdirs = [subdir for subdir in sortd if subdir in include]\n",
    "subdirs"
   ]
  },
  {
   "cell_type": "code",
   "execution_count": null,
   "metadata": {},
   "outputs": [],
   "source": []
  },
  {
   "cell_type": "code",
   "execution_count": 87,
   "metadata": {},
   "outputs": [],
   "source": [
    "datagen = DataGenerator('../data/training', include=['Rock', 'Hip-Hop'], batch_size=64, dim=(128,640), \n",
    "                        n_channels=1, test=False)"
   ]
  },
  {
   "cell_type": "code",
   "execution_count": 88,
   "metadata": {},
   "outputs": [
    {
     "data": {
      "text/plain": [
       "24"
      ]
     },
     "execution_count": 88,
     "metadata": {},
     "output_type": "execute_result"
    }
   ],
   "source": [
    "len(datagen)"
   ]
  },
  {
   "cell_type": "code",
   "execution_count": 89,
   "metadata": {},
   "outputs": [],
   "source": [
    "i = datagen.__getitem__(1)"
   ]
  },
  {
   "cell_type": "code",
   "execution_count": 90,
   "metadata": {},
   "outputs": [
    {
     "data": {
      "text/plain": [
       "(64, 128, 640, 1)"
      ]
     },
     "execution_count": 90,
     "metadata": {},
     "output_type": "execute_result"
    }
   ],
   "source": [
    "i[0].shape"
   ]
  },
  {
   "cell_type": "code",
   "execution_count": 91,
   "metadata": {},
   "outputs": [
    {
     "data": {
      "text/plain": [
       "True"
      ]
     },
     "execution_count": 91,
     "metadata": {},
     "output_type": "execute_result"
    }
   ],
   "source": [
    "i[0].shape == (64, 128, 640, 1)"
   ]
  },
  {
   "cell_type": "code",
   "execution_count": 92,
   "metadata": {},
   "outputs": [
    {
     "data": {
      "text/plain": [
       "array([[1, 0],\n",
       "       [0, 1],\n",
       "       [0, 1],\n",
       "       [0, 1]])"
      ]
     },
     "execution_count": 92,
     "metadata": {},
     "output_type": "execute_result"
    }
   ],
   "source": [
    "i[1][:4]"
   ]
  },
  {
   "cell_type": "code",
   "execution_count": 93,
   "metadata": {},
   "outputs": [
    {
     "data": {
      "text/plain": [
       "{'Hip-Hop': 0, 'Rock': 1}"
      ]
     },
     "execution_count": 93,
     "metadata": {},
     "output_type": "execute_result"
    }
   ],
   "source": [
    "datagen.label_dict"
   ]
  },
  {
   "cell_type": "code",
   "execution_count": 41,
   "metadata": {},
   "outputs": [],
   "source": [
    "valid_datagen = DataGenerator('../data/validation', batch_size=64, dim=(128,640), \n",
    "                              n_channels=1, test=False)"
   ]
  },
  {
   "cell_type": "code",
   "execution_count": 42,
   "metadata": {},
   "outputs": [
    {
     "data": {
      "text/plain": [
       "4"
      ]
     },
     "execution_count": 42,
     "metadata": {},
     "output_type": "execute_result"
    }
   ],
   "source": [
    "len(valid_datagen)"
   ]
  },
  {
   "cell_type": "markdown",
   "metadata": {},
   "source": [
    "## Test DataGenerator on model"
   ]
  },
  {
   "cell_type": "code",
   "execution_count": 22,
   "metadata": {},
   "outputs": [],
   "source": [
    "import tensorflow as tf\n",
    "from tensorflow.keras.models import Sequential, Model\n",
    "from tensorflow.keras.layers import Input, Dense, TimeDistributed, LSTM, Dropout, Activation\n",
    "from tensorflow.keras.layers import MaxPooling2D, Flatten, Conv1D, \\\n",
    "                                    Conv2D, BatchNormalization, MaxPooling1D, \\\n",
    "                                    GlobalAveragePooling2D\n",
    "from tensorflow.keras.layers import Lambda, ELU\n",
    "from tensorflow.keras.callbacks import ModelCheckpoint, TensorBoard, ReduceLROnPlateau\n",
    "from tensorflow.keras import backend\n",
    "from tensorflow.keras.optimizers import Adam, RMSprop\n",
    "from tensorflow.keras import regularizers"
   ]
  },
  {
   "cell_type": "code",
   "execution_count": 49,
   "metadata": {},
   "outputs": [],
   "source": [
    "# Build model\n",
    "model = Sequential()\n",
    "\n",
    "model.add(Conv2D(32, (9, 9), input_shape = (128, 640, 1), \n",
    "                 padding='same', \n",
    "                 activation='relu'))\n",
    "model.add(MaxPooling2D(pool_size = (2, 2)))\n",
    "model.add(Dropout(0.2))\n",
    "\n",
    "model.add(Conv2D(64, (5, 5), activation='relu'))\n",
    "model.add(Conv2D(128, (3, 3), activation='relu'))\n",
    "model.add(GlobalAveragePooling2D())\n",
    "model.add(Dropout(0.3))\n",
    "\n",
    "model.add(Dense(units = 256, activation = 'relu'))\n",
    "model.add(Dropout(0.3))\n",
    "\n",
    "model.add(Dense(units = 128, activation = 'relu'))\n",
    "model.add(Dropout(0.3))\n",
    "\n",
    "model.add(Dense(units = 64, activation = 'relu'))\n",
    "model.add(Dropout(0.3))\n",
    "\n",
    "model.add(Dense(units = 3, activation = 'softmax'))\n",
    "\n",
    "opt = Adam(lr=0.001)\n",
    "model.compile(loss='categorical_crossentropy',\n",
    "              optimizer=opt,\n",
    "              metrics=['accuracy'])"
   ]
  },
  {
   "cell_type": "code",
   "execution_count": 50,
   "metadata": {},
   "outputs": [
    {
     "name": "stdout",
     "output_type": "stream",
     "text": [
      "Model: \"sequential_3\"\n",
      "_________________________________________________________________\n",
      "Layer (type)                 Output Shape              Param #   \n",
      "=================================================================\n",
      "conv2d_9 (Conv2D)            (None, 128, 640, 32)      2624      \n",
      "_________________________________________________________________\n",
      "max_pooling2d_3 (MaxPooling2 (None, 64, 320, 32)       0         \n",
      "_________________________________________________________________\n",
      "dropout_14 (Dropout)         (None, 64, 320, 32)       0         \n",
      "_________________________________________________________________\n",
      "conv2d_10 (Conv2D)           (None, 60, 316, 64)       51264     \n",
      "_________________________________________________________________\n",
      "conv2d_11 (Conv2D)           (None, 58, 314, 128)      73856     \n",
      "_________________________________________________________________\n",
      "global_average_pooling2d_3 ( (None, 128)               0         \n",
      "_________________________________________________________________\n",
      "dropout_15 (Dropout)         (None, 128)               0         \n",
      "_________________________________________________________________\n",
      "dense_11 (Dense)             (None, 256)               33024     \n",
      "_________________________________________________________________\n",
      "dropout_16 (Dropout)         (None, 256)               0         \n",
      "_________________________________________________________________\n",
      "dense_12 (Dense)             (None, 128)               32896     \n",
      "_________________________________________________________________\n",
      "dropout_17 (Dropout)         (None, 128)               0         \n",
      "_________________________________________________________________\n",
      "dense_13 (Dense)             (None, 64)                8256      \n",
      "_________________________________________________________________\n",
      "dropout_18 (Dropout)         (None, 64)                0         \n",
      "_________________________________________________________________\n",
      "dense_14 (Dense)             (None, 3)                 195       \n",
      "=================================================================\n",
      "Total params: 202,115\n",
      "Trainable params: 202,115\n",
      "Non-trainable params: 0\n",
      "_________________________________________________________________\n"
     ]
    }
   ],
   "source": [
    "model.summary()"
   ]
  },
  {
   "cell_type": "code",
   "execution_count": 51,
   "metadata": {},
   "outputs": [],
   "source": [
    "checkpoint_callback = ModelCheckpoint('../models/model2_with_datagen_best_val_loss.h5', \n",
    "                                      monitor='val_loss', mode='min',\n",
    "                                      save_best_only=True, verbose=1)\n",
    "\n",
    "reducelr_callback = ReduceLROnPlateau(monitor='val_loss', mode='min', factor=0.8, \n",
    "                                      patience=2, min_delta=0.005, verbose=1)\n",
    "\n",
    "callbacks_list = [checkpoint_callback, reducelr_callback]"
   ]
  },
  {
   "cell_type": "code",
   "execution_count": 52,
   "metadata": {},
   "outputs": [
    {
     "name": "stdout",
     "output_type": "stream",
     "text": [
      "Epoch 1/25\n",
      "36/37 [============================>.] - ETA: 0s - loss: 1.0923 - accuracy: 0.3559\n",
      "Epoch 00001: val_loss improved from inf to 1.08663, saving model to ../models/model2_with_datagen_best_val_loss.h5\n",
      "37/37 [==============================] - 25s 683ms/step - loss: 1.0915 - accuracy: 0.3632 - val_loss: 1.0866 - val_accuracy: 0.3320\n",
      "Epoch 2/25\n",
      "36/37 [============================>.] - ETA: 0s - loss: 1.0012 - accuracy: 0.4852\n",
      "Epoch 00002: val_loss improved from 1.08663 to 1.04347, saving model to ../models/model2_with_datagen_best_val_loss.h5\n",
      "37/37 [==============================] - 23s 613ms/step - loss: 1.0032 - accuracy: 0.4840 - val_loss: 1.0435 - val_accuracy: 0.4375\n",
      "Epoch 3/25\n",
      "36/37 [============================>.] - ETA: 0s - loss: 0.9350 - accuracy: 0.5482\n",
      "Epoch 00003: val_loss did not improve from 1.04347\n",
      "37/37 [==============================] - 23s 612ms/step - loss: 0.9332 - accuracy: 0.5498 - val_loss: 1.1459 - val_accuracy: 0.3906\n",
      "Epoch 4/25\n",
      "36/37 [============================>.] - ETA: 0s - loss: 0.9326 - accuracy: 0.5503\n",
      "Epoch 00004: val_loss did not improve from 1.04347\n",
      "\n",
      "Epoch 00004: ReduceLROnPlateau reducing learning rate to 0.000800000037997961.\n",
      "37/37 [==============================] - 23s 611ms/step - loss: 0.9347 - accuracy: 0.5498 - val_loss: 1.1170 - val_accuracy: 0.4141\n",
      "Epoch 5/25\n",
      "36/37 [============================>.] - ETA: 0s - loss: 0.9177 - accuracy: 0.5773\n",
      "Epoch 00005: val_loss did not improve from 1.04347\n",
      "37/37 [==============================] - 23s 613ms/step - loss: 0.9209 - accuracy: 0.5747 - val_loss: 1.0754 - val_accuracy: 0.4336\n",
      "Epoch 6/25\n",
      "36/37 [============================>.] - ETA: 0s - loss: 0.8696 - accuracy: 0.6372\n",
      "Epoch 00006: val_loss improved from 1.04347 to 0.90240, saving model to ../models/model2_with_datagen_best_val_loss.h5\n",
      "37/37 [==============================] - 23s 614ms/step - loss: 0.8702 - accuracy: 0.6364 - val_loss: 0.9024 - val_accuracy: 0.5820\n",
      "Epoch 7/25\n",
      "36/37 [============================>.] - ETA: 0s - loss: 0.8945 - accuracy: 0.6150\n",
      "Epoch 00007: val_loss did not improve from 0.90240\n",
      "37/37 [==============================] - 23s 613ms/step - loss: 0.8929 - accuracy: 0.6157 - val_loss: 0.9424 - val_accuracy: 0.5469\n",
      "Epoch 8/25\n",
      "36/37 [============================>.] - ETA: 0s - loss: 0.8441 - accuracy: 0.6528\n",
      "Epoch 00008: val_loss did not improve from 0.90240\n",
      "\n",
      "Epoch 00008: ReduceLROnPlateau reducing learning rate to 0.0006400000303983689.\n",
      "37/37 [==============================] - 23s 614ms/step - loss: 0.8401 - accuracy: 0.6541 - val_loss: 1.0983 - val_accuracy: 0.5039\n",
      "Epoch 9/25\n",
      "36/37 [============================>.] - ETA: 0s - loss: 0.7780 - accuracy: 0.6923\n",
      "Epoch 00009: val_loss improved from 0.90240 to 0.75291, saving model to ../models/model2_with_datagen_best_val_loss.h5\n",
      "37/37 [==============================] - 23s 616ms/step - loss: 0.7757 - accuracy: 0.6938 - val_loss: 0.7529 - val_accuracy: 0.7422\n",
      "Epoch 10/25\n",
      "36/37 [============================>.] - ETA: 0s - loss: 0.7624 - accuracy: 0.7105\n",
      "Epoch 00010: val_loss did not improve from 0.75291\n",
      "37/37 [==============================] - 23s 616ms/step - loss: 0.7632 - accuracy: 0.7090 - val_loss: 0.7760 - val_accuracy: 0.6719\n",
      "Epoch 11/25\n",
      "36/37 [============================>.] - ETA: 0s - loss: 0.6832 - accuracy: 0.7396\n",
      "Epoch 00011: val_loss improved from 0.75291 to 0.70724, saving model to ../models/model2_with_datagen_best_val_loss.h5\n",
      "37/37 [==============================] - 23s 615ms/step - loss: 0.6787 - accuracy: 0.7403 - val_loss: 0.7072 - val_accuracy: 0.7109\n",
      "Epoch 12/25\n",
      "36/37 [============================>.] - ETA: 0s - loss: 0.6852 - accuracy: 0.7365\n",
      "Epoch 00012: val_loss did not improve from 0.70724\n",
      "37/37 [==============================] - 23s 615ms/step - loss: 0.6838 - accuracy: 0.7356 - val_loss: 0.7294 - val_accuracy: 0.6602\n",
      "Epoch 13/25\n",
      "36/37 [============================>.] - ETA: 0s - loss: 0.6591 - accuracy: 0.7500\n",
      "Epoch 00013: val_loss improved from 0.70724 to 0.62292, saving model to ../models/model2_with_datagen_best_val_loss.h5\n",
      "37/37 [==============================] - 23s 617ms/step - loss: 0.6655 - accuracy: 0.7483 - val_loss: 0.6229 - val_accuracy: 0.7578\n",
      "Epoch 14/25\n",
      "36/37 [============================>.] - ETA: 0s - loss: 0.6535 - accuracy: 0.7591\n",
      "Epoch 00014: val_loss did not improve from 0.62292\n",
      "37/37 [==============================] - 23s 614ms/step - loss: 0.6525 - accuracy: 0.7597 - val_loss: 0.6348 - val_accuracy: 0.7422\n",
      "Epoch 15/25\n",
      "36/37 [============================>.] - ETA: 0s - loss: 0.6290 - accuracy: 0.7595\n",
      "Epoch 00015: val_loss improved from 0.62292 to 0.60014, saving model to ../models/model2_with_datagen_best_val_loss.h5\n",
      "37/37 [==============================] - 23s 615ms/step - loss: 0.6291 - accuracy: 0.7610 - val_loss: 0.6001 - val_accuracy: 0.7734\n",
      "Epoch 16/25\n",
      "36/37 [============================>.] - ETA: 0s - loss: 0.6686 - accuracy: 0.7470\n",
      "Epoch 00016: val_loss did not improve from 0.60014\n",
      "37/37 [==============================] - 23s 616ms/step - loss: 0.6625 - accuracy: 0.7504 - val_loss: 0.9081 - val_accuracy: 0.6445\n",
      "Epoch 17/25\n",
      "36/37 [============================>.] - ETA: 0s - loss: 0.6146 - accuracy: 0.7678\n",
      "Epoch 00017: val_loss improved from 0.60014 to 0.57476, saving model to ../models/model2_with_datagen_best_val_loss.h5\n",
      "37/37 [==============================] - 23s 616ms/step - loss: 0.6103 - accuracy: 0.7698 - val_loss: 0.5748 - val_accuracy: 0.7578\n",
      "Epoch 18/25\n",
      "36/37 [============================>.] - ETA: 0s - loss: 0.6067 - accuracy: 0.7695\n",
      "Epoch 00018: val_loss did not improve from 0.57476\n",
      "37/37 [==============================] - 23s 614ms/step - loss: 0.6036 - accuracy: 0.7707 - val_loss: 0.5969 - val_accuracy: 0.7695\n",
      "Epoch 19/25\n",
      "36/37 [============================>.] - ETA: 0s - loss: 0.5737 - accuracy: 0.7869\n",
      "Epoch 00019: val_loss improved from 0.57476 to 0.53892, saving model to ../models/model2_with_datagen_best_val_loss.h5\n",
      "37/37 [==============================] - 23s 615ms/step - loss: 0.5704 - accuracy: 0.7872 - val_loss: 0.5389 - val_accuracy: 0.7695\n",
      "Epoch 20/25\n",
      "36/37 [============================>.] - ETA: 0s - loss: 0.5622 - accuracy: 0.7886\n",
      "Epoch 00020: val_loss did not improve from 0.53892\n",
      "37/37 [==============================] - 23s 617ms/step - loss: 0.5619 - accuracy: 0.7884 - val_loss: 0.5726 - val_accuracy: 0.7695\n",
      "Epoch 21/25\n",
      "36/37 [============================>.] - ETA: 0s - loss: 0.5755 - accuracy: 0.7817\n",
      "Epoch 00021: val_loss did not improve from 0.53892\n",
      "\n",
      "Epoch 00021: ReduceLROnPlateau reducing learning rate to 0.0005120000336319208.\n",
      "37/37 [==============================] - 23s 614ms/step - loss: 0.5710 - accuracy: 0.7846 - val_loss: 0.6366 - val_accuracy: 0.7422\n",
      "Epoch 22/25\n",
      "36/37 [============================>.] - ETA: 0s - loss: 0.5478 - accuracy: 0.7899\n",
      "Epoch 00022: val_loss did not improve from 0.53892\n",
      "37/37 [==============================] - 23s 615ms/step - loss: 0.5481 - accuracy: 0.7901 - val_loss: 0.6976 - val_accuracy: 0.7227\n",
      "Epoch 23/25\n",
      "36/37 [============================>.] - ETA: 0s - loss: 0.5724 - accuracy: 0.7786\n",
      "Epoch 00023: val_loss did not improve from 0.53892\n",
      "\n",
      "Epoch 00023: ReduceLROnPlateau reducing learning rate to 0.00040960004553198815.\n",
      "37/37 [==============================] - 23s 615ms/step - loss: 0.5694 - accuracy: 0.7800 - val_loss: 0.5754 - val_accuracy: 0.7695\n",
      "Epoch 24/25\n",
      "36/37 [============================>.] - ETA: 0s - loss: 0.5294 - accuracy: 0.8003\n",
      "Epoch 00024: val_loss did not improve from 0.53892\n",
      "37/37 [==============================] - 23s 615ms/step - loss: 0.5338 - accuracy: 0.7994 - val_loss: 0.5468 - val_accuracy: 0.7812\n",
      "Epoch 25/25\n",
      "36/37 [============================>.] - ETA: 0s - loss: 0.5269 - accuracy: 0.7995\n",
      "Epoch 00025: val_loss did not improve from 0.53892\n",
      "\n",
      "Epoch 00025: ReduceLROnPlateau reducing learning rate to 0.00032768002711236477.\n",
      "37/37 [==============================] - 23s 612ms/step - loss: 0.5257 - accuracy: 0.7998 - val_loss: 0.6306 - val_accuracy: 0.7422\n"
     ]
    }
   ],
   "source": [
    "history = model.fit_generator(generator=datagen, epochs=25,\n",
    "                              validation_data=valid_datagen, verbose=1, \n",
    "                              callbacks=callbacks_list)"
   ]
  },
  {
   "cell_type": "code",
   "execution_count": 79,
   "metadata": {},
   "outputs": [
    {
     "name": "stdout",
     "output_type": "stream",
     "text": [
      "Model: \"sequential_3\"\n",
      "_________________________________________________________________\n",
      "Layer (type)                 Output Shape              Param #   \n",
      "=================================================================\n",
      "conv2d_9 (Conv2D)            (None, 128, 640, 32)      2624      \n",
      "_________________________________________________________________\n",
      "max_pooling2d_3 (MaxPooling2 (None, 64, 320, 32)       0         \n",
      "_________________________________________________________________\n",
      "dropout_14 (Dropout)         (None, 64, 320, 32)       0         \n",
      "_________________________________________________________________\n",
      "conv2d_10 (Conv2D)           (None, 60, 316, 64)       51264     \n",
      "_________________________________________________________________\n",
      "conv2d_11 (Conv2D)           (None, 58, 314, 128)      73856     \n",
      "_________________________________________________________________\n",
      "global_average_pooling2d_3 ( (None, 128)               0         \n",
      "_________________________________________________________________\n",
      "dropout_15 (Dropout)         (None, 128)               0         \n",
      "_________________________________________________________________\n",
      "dense_11 (Dense)             (None, 256)               33024     \n",
      "_________________________________________________________________\n",
      "dropout_16 (Dropout)         (None, 256)               0         \n",
      "_________________________________________________________________\n",
      "dense_12 (Dense)             (None, 128)               32896     \n",
      "_________________________________________________________________\n",
      "dropout_17 (Dropout)         (None, 128)               0         \n",
      "_________________________________________________________________\n",
      "dense_13 (Dense)             (None, 64)                8256      \n",
      "_________________________________________________________________\n",
      "dropout_18 (Dropout)         (None, 64)                0         \n",
      "_________________________________________________________________\n",
      "dense_14 (Dense)             (None, 3)                 195       \n",
      "=================================================================\n",
      "Total params: 202,115\n",
      "Trainable params: 202,115\n",
      "Non-trainable params: 0\n",
      "_________________________________________________________________\n"
     ]
    },
    {
     "data": {
      "text/plain": [
       "NoneType"
      ]
     },
     "execution_count": 79,
     "metadata": {},
     "output_type": "execute_result"
    }
   ],
   "source": [
    "history.model.summary()"
   ]
  },
  {
   "cell_type": "code",
   "execution_count": 98,
   "metadata": {},
   "outputs": [],
   "source": [
    "import matplotlib.pyplot as plt\n",
    "\n",
    "def show_summary_stats(history, savepath=None, dpi=100):\n",
    "    # List all data in history\n",
    "    print(history.history.keys())\n",
    "\n",
    "    # Summarize history for accuracy\n",
    "    plt.figure(figsize=(4,3), dpi=dpi)\n",
    "    plt.plot(history.history['accuracy'])\n",
    "    plt.plot(history.history['val_accuracy'])\n",
    "    plt.title('Model Accuracy')\n",
    "    plt.ylabel('Accuracy')\n",
    "    plt.xlabel('Epoch')\n",
    "    plt.legend(['Train', 'Test'], loc='best')\n",
    "    if savepath:\n",
    "        plt.savefig(os.path.join(savepath, f''), \n",
    "                    dpi=dpi)\n",
    "    plt.show()\n",
    "\n",
    "    # Summarize history for loss\n",
    "    plt.figure(figsize=(4,3), dpi=dpi)\n",
    "    plt.plot(history.history['loss'])\n",
    "    plt.plot(history.history['val_loss'])\n",
    "    plt.title('Model Loss')\n",
    "    plt.ylabel('Loss')\n",
    "    plt.xlabel('Epoch')\n",
    "    plt.legend(['Train', 'Test'], loc='best')\n",
    "    if savepath:\n",
    "        plt.savefig(savepath, dpi=dpi)\n",
    "    plt.show()"
   ]
  },
  {
   "cell_type": "code",
   "execution_count": 99,
   "metadata": {},
   "outputs": [
    {
     "name": "stdout",
     "output_type": "stream",
     "text": [
      "dict_keys(['loss', 'accuracy', 'val_loss', 'val_accuracy', 'lr'])\n"
     ]
    },
    {
     "data": {
      "image/png": "[encoded data removed]",
      "text/plain": [
       "<Figure size 400x300 with 1 Axes>"
      ]
     },
     "metadata": {
      "needs_background": "light"
     },
     "output_type": "display_data"
    },
    {
     "data": {
      "image/png": "[encoded data removed]",
      "text/plain": [
       "<Figure size 400x300 with 1 Axes>"
      ]
     },
     "metadata": {
      "needs_background": "light"
     },
     "output_type": "display_data"
    }
   ],
   "source": [
    "show_summary_stats(history)"
   ]
  },
  {
   "cell_type": "code",
   "execution_count": 143,
   "metadata": {},
   "outputs": [],
   "source": [
    "test_datagen = DataGenerator('../data/test', batch_size=64, dim=(128,640), \n",
    "                              n_channels=1, test=True)"
   ]
  },
  {
   "cell_type": "code",
   "execution_count": 144,
   "metadata": {},
   "outputs": [
    {
     "data": {
      "text/plain": [
       "array([0, 0, 2, 0, 0, 0, 0, 0, 0, 0, 0, 0, 0, 0, 0, 0, 2, 2, 0, 0, 2, 0,\n",
       "       0, 0, 0, 1, 0, 0, 0, 0, 0, 0, 0, 0, 0, 0, 0, 0, 0, 0, 0, 0, 0, 0,\n",
       "       0, 0, 2, 2, 0, 0, 0, 0, 0, 0, 0, 0, 0, 2, 0, 0, 0, 0, 0, 0, 0, 0,\n",
       "       0, 0, 0, 0, 2, 0, 0, 0, 0, 2, 0, 0, 0, 0, 0, 0, 0, 0, 0, 0, 0, 0,\n",
       "       0, 0, 0, 0, 0, 1, 0, 0, 2, 0, 0, 0, 1, 1, 1, 0, 1, 1, 2, 2, 1, 1,\n",
       "       0, 1, 1, 1, 1, 1, 0, 0, 1, 1, 1, 1, 1, 2, 2, 1, 1, 1, 1, 2, 1, 1,\n",
       "       1, 2, 2, 1, 1, 1, 0, 1, 1, 1, 2, 1, 2, 1, 1, 2, 2, 1, 1, 1, 1, 0,\n",
       "       1, 1, 1, 1, 1, 1, 1, 1, 1, 2, 1, 1, 1, 1, 1, 1, 1, 1, 1, 1, 1, 1,\n",
       "       0, 1, 1, 1, 1, 1, 1, 0, 1, 1, 1, 1, 1, 0, 0, 1, 1, 1, 1, 1, 1, 1,\n",
       "       1, 1, 2, 2, 2, 2, 2, 2, 1, 2, 2, 2, 2, 1, 2, 1, 2, 1, 2, 2, 2, 2,\n",
       "       2, 2, 1, 2, 2, 2, 1, 2, 2, 2, 2, 2, 2, 2, 2, 2, 2, 2, 2, 2, 2, 2,\n",
       "       2, 0, 2, 2, 2, 2, 2, 2, 2, 1, 2, 2, 2, 2, 2, 2, 2, 2, 2, 2, 1, 2,\n",
       "       2, 2, 2, 2, 2, 2, 2, 2, 1, 2, 2, 2, 2, 2, 2, 2, 2, 2, 0, 1, 2, 2,\n",
       "       1, 2, 2, 2, 2, 2, 0, 2, 2, 2, 2, 2, 2, 2])"
      ]
     },
     "execution_count": 144,
     "metadata": {},
     "output_type": "execute_result"
    }
   ],
   "source": [
    "y_pred = model.predict_generator(test_datagen)\n",
    "y_pred = np.argmax(y_pred, axis=1)\n",
    "y_pred\n"
   ]
  },
  {
   "cell_type": "code",
   "execution_count": 147,
   "metadata": {},
   "outputs": [
    {
     "data": {
      "text/plain": [
       "array([0, 0, 0, 0, 0, 0, 0, 0, 0, 0, 0, 0, 0, 0, 0, 0, 0, 0, 0, 0, 0, 0,\n",
       "       0, 0, 0, 0, 0, 0, 0, 0, 0, 0, 0, 0, 0, 0, 0, 0, 0, 0, 0, 0, 0, 0,\n",
       "       0, 0, 0, 0, 0, 0, 0, 0, 0, 0, 0, 0, 0, 0, 0, 0, 0, 0, 0, 0, 0, 0,\n",
       "       0, 0, 0, 0, 0, 0, 0, 0, 0, 0, 0, 0, 0, 0, 0, 0, 0, 0, 0, 0, 0, 0,\n",
       "       0, 0, 0, 0, 0, 0, 0, 0, 0, 0, 0, 0, 1, 1, 1, 1, 1, 1, 1, 1, 1, 1,\n",
       "       1, 1, 1, 1, 1, 1, 1, 1, 1, 1, 1, 1, 1, 1, 1, 1, 1, 1, 1, 1, 1, 1,\n",
       "       1, 1, 1, 1, 1, 1, 1, 1, 1, 1, 1, 1, 1, 1, 1, 1, 1, 1, 1, 1, 1, 1,\n",
       "       1, 1, 1, 1, 1, 1, 1, 1, 1, 1, 1, 1, 1, 1, 1, 1, 1, 1, 1, 1, 1, 1,\n",
       "       1, 1, 1, 1, 1, 1, 1, 1, 1, 1, 1, 1, 1, 1, 1, 1, 1, 1, 1, 1, 1, 1,\n",
       "       1, 1, 2, 2, 2, 2, 2, 2, 2, 2, 2, 2, 2, 2, 2, 2, 2, 2, 2, 2, 2, 2,\n",
       "       2, 2, 2, 2, 2, 2, 2, 2, 2, 2, 2, 2, 2, 2, 2, 2, 2, 2, 2, 2, 2, 2,\n",
       "       2, 2, 2, 2, 2, 2, 2, 2, 2, 2, 2, 2, 2, 2, 2, 2, 2, 2, 2, 2, 2, 2,\n",
       "       2, 2, 2, 2, 2, 2, 2, 2, 2, 2, 2, 2, 2, 2, 2, 2, 2, 2, 2, 2, 2, 2,\n",
       "       2, 2, 2, 2, 2, 2, 2, 2, 2, 2, 2, 2, 2, 2])"
      ]
     },
     "execution_count": 147,
     "metadata": {},
     "output_type": "execute_result"
    }
   ],
   "source": [
    "y_true = test_datagen.test_labels\n",
    "y_true = np.argmax(y_true, axis=1)\n",
    "y_true"
   ]
  },
  {
   "cell_type": "code",
   "execution_count": 149,
   "metadata": {},
   "outputs": [],
   "source": [
    "target_names = sorted(test_datagen.label_dict.keys())"
   ]
  },
  {
   "cell_type": "code",
   "execution_count": 150,
   "metadata": {},
   "outputs": [
    {
     "name": "stdout",
     "output_type": "stream",
     "text": [
      "(300,) (300,)\n",
      "              precision    recall  f1-score   support\n",
      "\n",
      "     Hip-Hop       0.87      0.88      0.88       100\n",
      "Instrumental       0.86      0.78      0.82       100\n",
      "        Rock       0.80      0.86      0.83       100\n",
      "\n",
      "    accuracy                           0.84       300\n",
      "   macro avg       0.84      0.84      0.84       300\n",
      "weighted avg       0.84      0.84      0.84       300\n",
      "\n"
     ]
    }
   ],
   "source": [
    "from sklearn.metrics import classification_report\n",
    "\n",
    "print(classification_report(y_true, y_pred, target_names=target_names))"
   ]
  },
  {
   "cell_type": "code",
   "execution_count": 151,
   "metadata": {},
   "outputs": [
    {
     "data": {
      "text/plain": [
       "[0.4093598937491576, 0.84]"
      ]
     },
     "execution_count": 151,
     "metadata": {},
     "output_type": "execute_result"
    }
   ],
   "source": [
    "model.evaluate_generator(generator=test_datagen)"
   ]
  },
  {
   "cell_type": "code",
   "execution_count": 168,
   "metadata": {},
   "outputs": [],
   "source": [
    "from sklearn.metrics import confusion_matrix\n",
    "from matplotlib import cm\n",
    "import seaborn as sns"
   ]
  },
  {
   "cell_type": "code",
   "execution_count": 172,
   "metadata": {},
   "outputs": [
    {
     "data": {
      "image/png": "[encoded data removed]",
      "text/plain": [
       "<Figure size 720x720 with 2 Axes>"
      ]
     },
     "metadata": {},
     "output_type": "display_data"
    }
   ],
   "source": [
    "mat = confusion_matrix(y_true, y_pred)\n",
    "\n",
    "fig, ax = plt.subplots(figsize=(10,10))\n",
    "\n",
    "sns.heatmap(mat.T, square=True, annot=True, fmt='d', \n",
    "            cbar=True, cmap=cm.Reds,\n",
    "            xticklabels=target_names,\n",
    "            yticklabels=target_names,\n",
    "            ax=ax)\n",
    "\n",
    "plt.xticks(rotation=45)\n",
    "plt.yticks(rotation=45)\n",
    "plt.xlabel('Actual', size=15)\n",
    "plt.ylabel('Predicted', size=15);"
   ]
  },
  {
   "cell_type": "code",
   "execution_count": null,
   "metadata": {},
   "outputs": [],
   "source": []
  },
  {
   "cell_type": "code",
   "execution_count": null,
   "metadata": {},
   "outputs": [],
   "source": []
  },
  {
   "cell_type": "code",
   "execution_count": null,
   "metadata": {},
   "outputs": [],
   "source": []
  },
  {
   "cell_type": "code",
   "execution_count": null,
   "metadata": {},
   "outputs": [],
   "source": []
  },
  {
   "cell_type": "code",
   "execution_count": null,
   "metadata": {},
   "outputs": [],
   "source": []
  },
  {
   "cell_type": "markdown",
   "metadata": {},
   "source": [
    "## Scrap"
   ]
  },
  {
   "cell_type": "code",
   "execution_count": 121,
   "metadata": {},
   "outputs": [],
   "source": [
    "subdirs = sorted(os.listdir(filepath))\n",
    "labels = np.arange(len(subdirs))"
   ]
  },
  {
   "cell_type": "code",
   "execution_count": 124,
   "metadata": {},
   "outputs": [
    {
     "data": {
      "text/plain": [
       "{'Hip-Hop': 0, 'Instrumental': 1, 'Rock': 2}"
      ]
     },
     "execution_count": 124,
     "metadata": {},
     "output_type": "execute_result"
    }
   ],
   "source": [
    "{k:v for k,v in zip(subdirs, labels)}"
   ]
  },
  {
   "cell_type": "code",
   "execution_count": 72,
   "metadata": {},
   "outputs": [],
   "source": [
    "label_dict = {\n",
    "    'Rock': 0,\n",
    "    'Instrumental': 1,    \n",
    "    'Hip-Hop': 2,\n",
    "    'Folk': 3,\n",
    "    'International': 4,            \n",
    "    'Electronic': 5,\n",
    "    'Experimental': 6,   \n",
    "    'Pop': 7 \n",
    "}"
   ]
  },
  {
   "cell_type": "code",
   "execution_count": 73,
   "metadata": {},
   "outputs": [
    {
     "data": {
      "text/plain": [
       "8"
      ]
     },
     "execution_count": 73,
     "metadata": {},
     "output_type": "execute_result"
    }
   ],
   "source": [
    "len(label_dict)"
   ]
  },
  {
   "cell_type": "code",
   "execution_count": 97,
   "metadata": {},
   "outputs": [],
   "source": [
    "# Create list of filenames in a directory\n",
    "\n",
    "filepath = 'data/test'\n",
    "def __get_files(filepath):\n",
    "    subdirs = os.listdir(filepath)\n",
    "    all_files = []\n",
    "\n",
    "    for subdir in subdirs:\n",
    "        full_dir = os.path.join(filepath, subdir)\n",
    "        files = os.listdir(full_dir)\n",
    "        for file in files:\n",
    "            all_files.append(os.path.join(subdir, file))\n",
    "\n",
    "    return np.array(all_files)"
   ]
  },
  {
   "cell_type": "code",
   "execution_count": 98,
   "metadata": {},
   "outputs": [],
   "source": [
    "all_files = __get_files(filepath)"
   ]
  },
  {
   "cell_type": "code",
   "execution_count": 101,
   "metadata": {},
   "outputs": [
    {
     "data": {
      "text/plain": [
       "array(['Hip-Hop/132117.npy', 'Hip-Hop/110771.npy', 'Hip-Hop/140626.npy'],\n",
       "      dtype='<U23')"
      ]
     },
     "execution_count": 101,
     "metadata": {},
     "output_type": "execute_result"
    }
   ],
   "source": [
    "idxs = [0,33,99]\n",
    "all_files[idxs]"
   ]
  },
  {
   "cell_type": "code",
   "execution_count": 105,
   "metadata": {},
   "outputs": [],
   "source": [
    "batch_size = 5\n",
    "\n",
    "npy = np.load(os.path.join(filepath, all_files[0]))\n",
    "shape = npy.shape\n",
    "\n",
    "channels = 1\n",
    "n_classes = 2"
   ]
  },
  {
   "cell_type": "code",
   "execution_count": 112,
   "metadata": {},
   "outputs": [],
   "source": [
    "def __data_generation(all_files):\n",
    "    X = np.empty((batch_size, *shape, channels))\n",
    "    y = np.empty((batch_size), dtype=int)\n",
    "    \n",
    "    for i, file in enumerate(all_files[:batch_size]):\n",
    "        npy = np.load(os.path.join(filepath, file))\n",
    "        target = file.split('/')[0]\n",
    "        label = label_dict[target]\n",
    "        X[i,] = npy[:,:,None]\n",
    "        y[i,] = label\n",
    "    \n",
    "    return X, y\n",
    "# to_categorical(y, num_classes=n_classes, dtype='int')"
   ]
  },
  {
   "cell_type": "code",
   "execution_count": 113,
   "metadata": {},
   "outputs": [],
   "source": [
    "X, y = __data_generation(all_files)"
   ]
  },
  {
   "cell_type": "code",
   "execution_count": 114,
   "metadata": {},
   "outputs": [
    {
     "data": {
      "text/plain": [
       "array([2, 2, 2, 2, 2])"
      ]
     },
     "execution_count": 114,
     "metadata": {},
     "output_type": "execute_result"
    }
   ],
   "source": [
    "y"
   ]
  },
  {
   "cell_type": "code",
   "execution_count": 119,
   "metadata": {},
   "outputs": [
    {
     "data": {
      "text/plain": [
       "array([[0., 0., 1., 0., 0.],\n",
       "       [0., 0., 1., 0., 0.],\n",
       "       [0., 0., 1., 0., 0.],\n",
       "       [0., 0., 1., 0., 0.],\n",
       "       [0., 0., 1., 0., 0.]], dtype=float32)"
      ]
     },
     "execution_count": 119,
     "metadata": {},
     "output_type": "execute_result"
    }
   ],
   "source": [
    "to_categorical(y, num_classes=5)"
   ]
  },
  {
   "cell_type": "code",
   "execution_count": null,
   "metadata": {},
   "outputs": [],
   "source": []
  },
  {
   "cell_type": "code",
   "execution_count": 108,
   "metadata": {},
   "outputs": [],
   "source": [
    "X = np.empty((batch_size, *shape, channels))"
   ]
  },
  {
   "cell_type": "code",
   "execution_count": 109,
   "metadata": {},
   "outputs": [
    {
     "data": {
      "text/plain": [
       "'Hip-Hop'"
      ]
     },
     "execution_count": 109,
     "metadata": {},
     "output_type": "execute_result"
    }
   ],
   "source": [
    "all_files[0].split('/')[0]"
   ]
  },
  {
   "cell_type": "code",
   "execution_count": null,
   "metadata": {},
   "outputs": [],
   "source": []
  }
 ],
 "metadata": {
  "kernelspec": {
   "display_name": "Python 3",
   "language": "python",
   "name": "python3"
  },
  "language_info": {
   "codemirror_mode": {
    "name": "ipython",
    "version": 3
   },
   "file_extension": ".py",
   "mimetype": "text/x-python",
   "name": "python",
   "nbconvert_exporter": "python",
   "pygments_lexer": "ipython3",
   "version": "3.7.4"
  }
 },
 "nbformat": 4,
 "nbformat_minor": 4
}
