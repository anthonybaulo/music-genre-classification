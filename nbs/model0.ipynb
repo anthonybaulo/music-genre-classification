{
 "cells": [
  {
   "cell_type": "code",
   "execution_count": 34,
   "metadata": {},
   "outputs": [],
   "source": [
    "import os\n",
    "import numpy as np\n",
    "import librosa\n",
    "import librosa.display\n",
    "import pandas as pd\n",
    "import matplotlib.pyplot as plt\n",
    "from pathlib import Path\n",
    "\n",
    "import tensorflow as tf\n",
    "from tensorflow.keras.models import Sequential, Model\n",
    "from tensorflow.keras.layers import Input, Dense, TimeDistributed, LSTM, Dropout, Activation\n",
    "from tensorflow.keras.layers import MaxPooling2D, Flatten, Conv1D, \\\n",
    "                                    Conv2D, BatchNormalization, MaxPooling1D\n",
    "from tensorflow.keras.layers import Lambda, ELU\n",
    "from tensorflow.keras.callbacks import ModelCheckpoint, TensorBoard, ReduceLROnPlateau\n",
    "from tensorflow.keras import backend\n",
    "from tensorflow.keras.optimizers import Adam, RMSprop\n",
    "from tensorflow.keras import regularizers\n",
    "\n",
    "import warnings\n",
    "warnings.filterwarnings('ignore')\n",
    "\n",
    "%matplotlib inline"
   ]
  },
  {
   "cell_type": "code",
   "execution_count": 2,
   "metadata": {},
   "outputs": [],
   "source": [
    "META_DIR = Path('../data/fma_metadata')\n",
    "AUDIO_DIR = Path('../data/fma_small')\n",
    "CONVERTED_DIR = Path('../data/converted/rock_inst')"
   ]
  },
  {
   "cell_type": "code",
   "execution_count": 25,
   "metadata": {},
   "outputs": [],
   "source": [
    "def show_summary_stats(history):\n",
    "    # List all data in history\n",
    "    print(history.history.keys())\n",
    "\n",
    "    # Summarize history for accuracy\n",
    "    plt.plot(history.history['accuracy'])\n",
    "    plt.plot(history.history['val_accuracy'])\n",
    "    plt.title('model accuracy')\n",
    "    plt.ylabel('accuracy')\n",
    "    plt.xlabel('epoch')\n",
    "    plt.legend(['train', 'test'], loc='upper left')\n",
    "    plt.show()\n",
    "\n",
    "    # Summarize history for loss\n",
    "    plt.plot(history.history['loss'])\n",
    "    plt.plot(history.history['val_loss'])\n",
    "    plt.title('model loss')\n",
    "    plt.ylabel('loss')\n",
    "    plt.xlabel('epoch')\n",
    "    plt.legend(['train', 'test'], loc='upper left')\n",
    "    plt.show()"
   ]
  },
  {
   "cell_type": "code",
   "execution_count": 3,
   "metadata": {},
   "outputs": [
    {
     "name": "stdout",
     "output_type": "stream",
     "text": [
      "{0: 'Rock', 1: 'Instrumental'}\n"
     ]
    }
   ],
   "source": [
    "genre_dict = {'Rock':0, 'Instrumental': 1}\n",
    "\n",
    "reverse_map = {v: k for k, v in genre_dict.items()}\n",
    "print(reverse_map)"
   ]
  },
  {
   "cell_type": "code",
   "execution_count": 4,
   "metadata": {},
   "outputs": [],
   "source": [
    "npzfile = np.load(CONVERTED_DIR/'train_arr.npz')\n",
    "X_train = npzfile['X']\n",
    "y_train = npzfile['y']\n",
    "print(X_train.shape, y_train.shape)"
   ]
  },
  {
   "cell_type": "code",
   "execution_count": 5,
   "metadata": {},
   "outputs": [],
   "source": [
    "npzfile = np.load(CONVERTED_DIR/'valid_arr.npz')\n",
    "X_valid = npzfile['X']\n",
    "y_valid = npzfile['y']\n",
    "print(X_valid.shape, y_valid.shape)"
   ]
  },
  {
   "cell_type": "code",
   "execution_count": 8,
   "metadata": {},
   "outputs": [],
   "source": [
    "# Sanity check - plot Spectogram\n",
    "\n",
    "# num = 0\n",
    "# spectogram = X_train[num]\n",
    "# genre = np.argmax(y_train[num])\n",
    "# print(reverse_map[genre])\n",
    "# plt.figure(figsize=(10, 5))\n",
    "# librosa.display.specshow(spectogram.T, y_axis='mel', x_axis='time')\n",
    "# plt.colorbar(format='%+2.0f dB')\n",
    "# plt.title('Test Melspectogram')\n",
    "# plt.tight_layout()"
   ]
  },
  {
   "cell_type": "code",
   "execution_count": 9,
   "metadata": {},
   "outputs": [],
   "source": [
    "# Add dimension for single channel for Conv2D\n",
    "X_train = X_train[...,None]\n",
    "X_valid = X_valid[...,None]\n",
    "\n",
    "# Build model\n",
    "model = Sequential()\n",
    "\n",
    "model.add(Conv2D(32, (5, 5), input_shape = (640, 128, 1), activation='relu'))\n",
    "model.add(MaxPooling2D(pool_size = (2, 2)))\n",
    "model.add(Dropout(0.2))\n",
    "\n",
    "model.add(Conv2D(32, (3, 3), activation='relu'))\n",
    "model.add(MaxPooling2D(pool_size = (2, 2)))\n",
    "model.add(Dropout(0.2))\n",
    "\n",
    "model.add(Flatten())\n",
    "model.add(Dense(units = 64, activation = 'relu'))\n",
    "model.add(Dropout(0.2))\n",
    "\n",
    "model.add(Dense(units = 1, activation = 'sigmoid'))\n",
    "model.compile(optimizer = 'adam', loss = 'binary_crossentropy', metrics = ['accuracy'])\n"
   ]
  },
  {
   "cell_type": "code",
   "execution_count": 19,
   "metadata": {},
   "outputs": [
    {
     "name": "stdout",
     "output_type": "stream",
     "text": [
      "Model: \"sequential_2\"\n",
      "_________________________________________________________________\n",
      "Layer (type)                 Output Shape              Param #   \n",
      "=================================================================\n",
      "conv2d_4 (Conv2D)            (None, 636, 124, 32)      832       \n",
      "_________________________________________________________________\n",
      "dropout_6 (Dropout)          (None, 636, 124, 32)      0         \n",
      "_________________________________________________________________\n",
      "conv2d_5 (Conv2D)            (None, 634, 122, 32)      9248      \n",
      "_________________________________________________________________\n",
      "max_pooling2d_4 (MaxPooling2 (None, 317, 61, 32)       0         \n",
      "_________________________________________________________________\n",
      "dropout_7 (Dropout)          (None, 317, 61, 32)       0         \n",
      "_________________________________________________________________\n",
      "flatten_2 (Flatten)          (None, 618784)            0         \n",
      "_________________________________________________________________\n",
      "dense_4 (Dense)              (None, 64)                39602240  \n",
      "_________________________________________________________________\n",
      "dropout_8 (Dropout)          (None, 64)                0         \n",
      "_________________________________________________________________\n",
      "dense_5 (Dense)              (None, 1)                 65        \n",
      "=================================================================\n",
      "Total params: 39,612,385\n",
      "Trainable params: 39,612,385\n",
      "Non-trainable params: 0\n",
      "_________________________________________________________________\n"
     ]
    }
   ],
   "source": [
    "model.summary()"
   ]
  },
  {
   "cell_type": "code",
   "execution_count": 20,
   "metadata": {},
   "outputs": [
    {
     "name": "stdout",
     "output_type": "stream",
     "text": [
      "Train on 1599 samples, validate on 200 samples\n",
      "Epoch 1/5\n",
      "1599/1599 [==============================] - 26s 16ms/sample - loss: 7.7186 - accuracy: 0.4984 - val_loss: 7.7125 - val_accuracy: 0.5000\n",
      "Epoch 2/5\n",
      "1599/1599 [==============================] - 21s 13ms/sample - loss: 7.7081 - accuracy: 0.4997 - val_loss: 7.7125 - val_accuracy: 0.5000\n",
      "Epoch 3/5\n",
      "1599/1599 [==============================] - 21s 13ms/sample - loss: 7.7081 - accuracy: 0.5003 - val_loss: 7.7125 - val_accuracy: 0.5000\n",
      "Epoch 4/5\n",
      "1599/1599 [==============================] - 21s 13ms/sample - loss: 7.7081 - accuracy: 0.5003 - val_loss: 7.7125 - val_accuracy: 0.5000\n",
      "Epoch 5/5\n",
      "1599/1599 [==============================] - 21s 13ms/sample - loss: 7.7081 - accuracy: 0.5003 - val_loss: 7.7125 - val_accuracy: 0.5000\n"
     ]
    }
   ],
   "source": [
    "history = model.fit(X_train, y_train, batch_size=64, epochs=5,\n",
    "                    validation_data=(X_valid, y_valid), verbose=1)\n"
   ]
  },
  {
   "cell_type": "code",
   "execution_count": 26,
   "metadata": {},
   "outputs": [
    {
     "name": "stdout",
     "output_type": "stream",
     "text": [
      "dict_keys(['loss', 'accuracy', 'val_loss', 'val_accuracy'])\n"
     ]
    },
    {
     "data": {
      "image/png": "[encoded data removed]",
      "text/plain": [
       "<Figure size 432x288 with 1 Axes>"
      ]
     },
     "metadata": {
      "needs_background": "light"
     },
     "output_type": "display_data"
    },
    {
     "data": {
      "image/png": "[encoded data removed]",
      "text/plain": [
       "<Figure size 432x288 with 1 Axes>"
      ]
     },
     "metadata": {
      "needs_background": "light"
     },
     "output_type": "display_data"
    }
   ],
   "source": [
    "show_summary_stats(history)"
   ]
  },
  {
   "cell_type": "markdown",
   "metadata": {},
   "source": [
    "# Try model from blog\n",
    "https://github.com/priya-dwivedi/Music_Genre_Classification/blob/master/CRNN_model.ipynb"
   ]
  },
  {
   "cell_type": "code",
   "execution_count": 27,
   "metadata": {},
   "outputs": [],
   "source": [
    "# Reload train and test\n",
    "npzfile = np.load(CONVERTED_DIR/'train_arr.npz')\n",
    "X_train = npzfile['X']\n",
    "y_train = npzfile['y']\n",
    "\n",
    "npzfile = np.load(CONVERTED_DIR/'valid_arr.npz')\n",
    "X_valid = npzfile['X']\n",
    "y_valid = npzfile['y']\n"
   ]
  },
  {
   "cell_type": "code",
   "execution_count": 59,
   "metadata": {},
   "outputs": [
    {
     "data": {
      "text/plain": [
       "array([0, 0, 1, 0, 1])"
      ]
     },
     "execution_count": 59,
     "metadata": {},
     "output_type": "execute_result"
    }
   ],
   "source": [
    "y_train[:5]"
   ]
  },
  {
   "cell_type": "code",
   "execution_count": 50,
   "metadata": {},
   "outputs": [],
   "source": [
    "batch_size = 32\n",
    "num_classes = 2\n",
    "n_features = X_train.shape[2]\n",
    "n_time = X_train.shape[1]"
   ]
  },
  {
   "cell_type": "code",
   "execution_count": 51,
   "metadata": {},
   "outputs": [],
   "source": [
    "N_LAYERS = 3\n",
    "FILTER_LENGTH = 5\n",
    "CONV_FILTER_COUNT = 56\n",
    "BATCH_SIZE = 32\n",
    "LSTM_COUNT = 96\n",
    "EPOCH_COUNT = 50\n",
    "NUM_HIDDEN = 64\n",
    "L2_regularization = 0.001\n",
    "\n",
    "def conv_recurrent_model_build(model_input):\n",
    "    print('Building model...')\n",
    "    layer = model_input\n",
    "    \n",
    "    ### 3 1D Convolution Layers\n",
    "    for i in range(N_LAYERS):\n",
    "        # give name to the layers\n",
    "        layer = Conv1D(\n",
    "                filters=CONV_FILTER_COUNT,\n",
    "                kernel_size=FILTER_LENGTH,\n",
    "                kernel_regularizer=regularizers.l2(L2_regularization),  # Tried 0.001\n",
    "                name='convolution_' + str(i + 1)\n",
    "            )(layer)\n",
    "        layer = BatchNormalization(momentum=0.9)(layer)\n",
    "        layer = Activation('relu')(layer)\n",
    "        layer = MaxPooling1D(2)(layer)\n",
    "        layer = Dropout(0.4)(layer)\n",
    "    \n",
    "    ## LSTM Layer\n",
    "    layer = LSTM(LSTM_COUNT, return_sequences=False)(layer)\n",
    "    layer = Dropout(0.4)(layer)\n",
    "    \n",
    "    ## Dense Layer\n",
    "    layer = Dense(NUM_HIDDEN, kernel_regularizer=regularizers.l2(L2_regularization), name='dense1')(layer)\n",
    "    layer = Dropout(0.4)(layer)\n",
    "    \n",
    "    ## Output\n",
    "    layer = Dense(num_classes)(layer)\n",
    "    layer = Activation('softmax', name='output_realtime')(layer)\n",
    "    model_output = layer\n",
    "    model = Model(model_input, model_output)\n",
    "    \n",
    "    \n",
    "    opt = Adam(lr=0.0004)\n",
    "    model.compile(loss='sparse_categorical_crossentropy',\n",
    "                  optimizer=opt,\n",
    "                  metrics=['accuracy'])\n",
    "    \n",
    "    print(model.summary())\n",
    "    return model"
   ]
  },
  {
   "cell_type": "code",
   "execution_count": 55,
   "metadata": {},
   "outputs": [],
   "source": [
    "def train_model(x_train, y_train, x_val, y_val):\n",
    "    \n",
    "    n_features = x_train.shape[2]\n",
    "    input_shape = (None, n_features)\n",
    "    model_input = Input(input_shape, name='input')\n",
    "    \n",
    "    model = conv_recurrent_model_build(model_input)\n",
    "    \n",
    "#     tb_callback = TensorBoard(log_dir='./logs/4', histogram_freq=1, batch_size=32, write_graph=True, write_grads=False,\n",
    "#                               write_images=False, embeddings_freq=0, embeddings_layer_names=None,\n",
    "#                               embeddings_metadata=None)\n",
    "    checkpoint_callback = ModelCheckpoint('./models/crnn_weights_best.h5', monitor='val_accuracy', verbose=1,\n",
    "                                          save_best_only=True, mode='max')\n",
    "    \n",
    "    reducelr_callback = ReduceLROnPlateau(monitor='val_accuracy', factor=0.5, \n",
    "                                          patience=10, min_delta=0.01, verbose=1)\n",
    "    \n",
    "    callbacks_list = [checkpoint_callback, reducelr_callback]\n",
    "\n",
    "    # Fit the model and get training history.\n",
    "    print('Training...')\n",
    "    history = model.fit(x_train, y_train, batch_size=BATCH_SIZE, epochs=EPOCH_COUNT,\n",
    "                        validation_data=(x_val, y_val), verbose=1, \n",
    "                        callbacks=callbacks_list)\n",
    "\n",
    "    return model, history\n"
   ]
  },
  {
   "cell_type": "code",
   "execution_count": 56,
   "metadata": {},
   "outputs": [
    {
     "name": "stdout",
     "output_type": "stream",
     "text": [
      "Building model...\n",
      "Model: \"model_8\"\n",
      "_________________________________________________________________\n",
      "Layer (type)                 Output Shape              Param #   \n",
      "=================================================================\n",
      "input (InputLayer)           [(None, None, 128)]       0         \n",
      "_________________________________________________________________\n",
      "convolution_1 (Conv1D)       (None, None, 56)          35896     \n",
      "_________________________________________________________________\n",
      "batch_normalization_25 (Batc (None, None, 56)          224       \n",
      "_________________________________________________________________\n",
      "activation_25 (Activation)   (None, None, 56)          0         \n",
      "_________________________________________________________________\n",
      "max_pooling1d_24 (MaxPooling (None, None, 56)          0         \n",
      "_________________________________________________________________\n",
      "dropout_49 (Dropout)         (None, None, 56)          0         \n",
      "_________________________________________________________________\n",
      "convolution_2 (Conv1D)       (None, None, 56)          15736     \n",
      "_________________________________________________________________\n",
      "batch_normalization_26 (Batc (None, None, 56)          224       \n",
      "_________________________________________________________________\n",
      "activation_26 (Activation)   (None, None, 56)          0         \n",
      "_________________________________________________________________\n",
      "max_pooling1d_25 (MaxPooling (None, None, 56)          0         \n",
      "_________________________________________________________________\n",
      "dropout_50 (Dropout)         (None, None, 56)          0         \n",
      "_________________________________________________________________\n",
      "convolution_3 (Conv1D)       (None, None, 56)          15736     \n",
      "_________________________________________________________________\n",
      "batch_normalization_27 (Batc (None, None, 56)          224       \n",
      "_________________________________________________________________\n",
      "activation_27 (Activation)   (None, None, 56)          0         \n",
      "_________________________________________________________________\n",
      "max_pooling1d_26 (MaxPooling (None, None, 56)          0         \n",
      "_________________________________________________________________\n",
      "dropout_51 (Dropout)         (None, None, 56)          0         \n",
      "_________________________________________________________________\n",
      "lstm_8 (LSTM)                (None, 96)                58752     \n",
      "_________________________________________________________________\n",
      "dropout_52 (Dropout)         (None, 96)                0         \n",
      "_________________________________________________________________\n",
      "dense1 (Dense)               (None, 64)                6208      \n",
      "_________________________________________________________________\n",
      "dropout_53 (Dropout)         (None, 64)                0         \n",
      "_________________________________________________________________\n",
      "dense_14 (Dense)             (None, 2)                 130       \n",
      "_________________________________________________________________\n",
      "output_realtime (Activation) (None, 2)                 0         \n",
      "=================================================================\n",
      "Total params: 133,130\n",
      "Trainable params: 132,794\n",
      "Non-trainable params: 336\n",
      "_________________________________________________________________\n",
      "None\n",
      "Training...\n",
      "Train on 1599 samples, validate on 200 samples\n",
      "Epoch 1/50\n",
      "1536/1599 [===========================>..] - ETA: 0s - loss: 0.7963 - accuracy: 0.7415\n",
      "Epoch 00001: val_accuracy improved from -inf to 0.66000, saving model to ./models/crnn_weights_best.h5\n",
      "1599/1599 [==============================] - 6s 4ms/sample - loss: 0.7913 - accuracy: 0.7455 - val_loss: 0.8846 - val_accuracy: 0.6600\n",
      "Epoch 2/50\n",
      "1536/1599 [===========================>..] - ETA: 0s - loss: 0.6892 - accuracy: 0.8210\n",
      "Epoch 00002: val_accuracy did not improve from 0.66000\n",
      "1599/1599 [==============================] - 2s 2ms/sample - loss: 0.6885 - accuracy: 0.8193 - val_loss: 1.1713 - val_accuracy: 0.5500\n",
      "Epoch 3/50\n",
      "1568/1599 [============================>.] - ETA: 0s - loss: 0.6607 - accuracy: 0.8329\n",
      "Epoch 00003: val_accuracy improved from 0.66000 to 0.74000, saving model to ./models/crnn_weights_best.h5\n",
      "1599/1599 [==============================] - 2s 2ms/sample - loss: 0.6602 - accuracy: 0.8330 - val_loss: 0.7749 - val_accuracy: 0.7400\n",
      "Epoch 4/50\n",
      "1536/1599 [===========================>..] - ETA: 0s - loss: 0.6461 - accuracy: 0.8444\n",
      "Epoch 00004: val_accuracy improved from 0.74000 to 0.81500, saving model to ./models/crnn_weights_best.h5\n",
      "1599/1599 [==============================] - 2s 1ms/sample - loss: 0.6471 - accuracy: 0.8424 - val_loss: 0.6839 - val_accuracy: 0.8150\n",
      "Epoch 5/50\n",
      "1568/1599 [============================>.] - ETA: 0s - loss: 0.6285 - accuracy: 0.8412\n",
      "Epoch 00005: val_accuracy did not improve from 0.81500\n",
      "1599/1599 [==============================] - 2s 1ms/sample - loss: 0.6334 - accuracy: 0.8374 - val_loss: 0.7226 - val_accuracy: 0.7700\n",
      "Epoch 6/50\n",
      "1568/1599 [============================>.] - ETA: 0s - loss: 0.6243 - accuracy: 0.8361\n",
      "Epoch 00006: val_accuracy did not improve from 0.81500\n",
      "1599/1599 [==============================] - 2s 1ms/sample - loss: 0.6242 - accuracy: 0.8355 - val_loss: 0.7427 - val_accuracy: 0.7250\n",
      "Epoch 7/50\n",
      "1536/1599 [===========================>..] - ETA: 0s - loss: 0.6167 - accuracy: 0.8379\n",
      "Epoch 00007: val_accuracy did not improve from 0.81500\n",
      "1599/1599 [==============================] - 2s 1ms/sample - loss: 0.6140 - accuracy: 0.8393 - val_loss: 1.1681 - val_accuracy: 0.5400\n",
      "Epoch 8/50\n",
      "1568/1599 [============================>.] - ETA: 0s - loss: 0.6061 - accuracy: 0.8438\n",
      "Epoch 00008: val_accuracy did not improve from 0.81500\n",
      "1599/1599 [==============================] - 2s 1ms/sample - loss: 0.6054 - accuracy: 0.8443 - val_loss: 0.8992 - val_accuracy: 0.6650\n",
      "Epoch 9/50\n",
      "1568/1599 [============================>.] - ETA: 0s - loss: 0.5889 - accuracy: 0.8489\n",
      "Epoch 00009: val_accuracy did not improve from 0.81500\n",
      "1599/1599 [==============================] - 2s 1ms/sample - loss: 0.5895 - accuracy: 0.8499 - val_loss: 0.9604 - val_accuracy: 0.5650\n",
      "Epoch 10/50\n",
      "1568/1599 [============================>.] - ETA: 0s - loss: 0.5594 - accuracy: 0.8622\n",
      "Epoch 00010: val_accuracy did not improve from 0.81500\n",
      "1599/1599 [==============================] - 2s 1ms/sample - loss: 0.5608 - accuracy: 0.8605 - val_loss: 1.1835 - val_accuracy: 0.5650\n",
      "Epoch 11/50\n",
      "1568/1599 [============================>.] - ETA: 0s - loss: 0.5521 - accuracy: 0.8616\n",
      "Epoch 00011: val_accuracy did not improve from 0.81500\n",
      "1599/1599 [==============================] - 2s 1ms/sample - loss: 0.5559 - accuracy: 0.8593 - val_loss: 0.7029 - val_accuracy: 0.8100\n",
      "Epoch 12/50\n",
      "1568/1599 [============================>.] - ETA: 0s - loss: 0.5595 - accuracy: 0.8565\n",
      "Epoch 00012: val_accuracy did not improve from 0.81500\n",
      "1599/1599 [==============================] - 2s 1ms/sample - loss: 0.5606 - accuracy: 0.8562 - val_loss: 0.7090 - val_accuracy: 0.7550\n",
      "Epoch 13/50\n",
      "1568/1599 [============================>.] - ETA: 0s - loss: 0.5598 - accuracy: 0.8578\n",
      "Epoch 00013: val_accuracy did not improve from 0.81500\n",
      "1599/1599 [==============================] - 2s 1ms/sample - loss: 0.5585 - accuracy: 0.8593 - val_loss: 0.6476 - val_accuracy: 0.8150\n",
      "Epoch 14/50\n",
      "1568/1599 [============================>.] - ETA: 0s - loss: 0.5298 - accuracy: 0.8686\n",
      "Epoch 00014: val_accuracy improved from 0.81500 to 0.84500, saving model to ./models/crnn_weights_best.h5\n",
      "1599/1599 [==============================] - 2s 2ms/sample - loss: 0.5274 - accuracy: 0.8699 - val_loss: 0.6088 - val_accuracy: 0.8450\n",
      "Epoch 15/50\n",
      "1568/1599 [============================>.] - ETA: 0s - loss: 0.5296 - accuracy: 0.8559\n",
      "Epoch 00015: val_accuracy did not improve from 0.84500\n",
      "1599/1599 [==============================] - 2s 1ms/sample - loss: 0.5307 - accuracy: 0.8562 - val_loss: 0.6970 - val_accuracy: 0.7550\n",
      "Epoch 16/50\n",
      "1568/1599 [============================>.] - ETA: 0s - loss: 0.5153 - accuracy: 0.8705\n",
      "Epoch 00016: val_accuracy did not improve from 0.84500\n",
      "1599/1599 [==============================] - 2s 1ms/sample - loss: 0.5176 - accuracy: 0.8705 - val_loss: 1.2553 - val_accuracy: 0.5550\n",
      "Epoch 17/50\n",
      "1536/1599 [===========================>..] - ETA: 0s - loss: 0.5165 - accuracy: 0.8620\n",
      "Epoch 00017: val_accuracy did not improve from 0.84500\n",
      "1599/1599 [==============================] - 2s 1ms/sample - loss: 0.5151 - accuracy: 0.8637 - val_loss: 1.4718 - val_accuracy: 0.5000\n",
      "Epoch 18/50\n",
      "1568/1599 [============================>.] - ETA: 0s - loss: 0.5001 - accuracy: 0.8744\n",
      "Epoch 00018: val_accuracy did not improve from 0.84500\n",
      "1599/1599 [==============================] - 2s 1ms/sample - loss: 0.4995 - accuracy: 0.8749 - val_loss: 1.4270 - val_accuracy: 0.5700\n",
      "Epoch 19/50\n",
      "1568/1599 [============================>.] - ETA: 0s - loss: 0.5053 - accuracy: 0.8622\n",
      "Epoch 00019: val_accuracy did not improve from 0.84500\n",
      "1599/1599 [==============================] - 2s 1ms/sample - loss: 0.5034 - accuracy: 0.8630 - val_loss: 0.7105 - val_accuracy: 0.8050\n",
      "Epoch 20/50\n",
      "1568/1599 [============================>.] - ETA: 0s - loss: 0.4830 - accuracy: 0.8833\n",
      "Epoch 00020: val_accuracy did not improve from 0.84500\n",
      "1599/1599 [==============================] - 2s 1ms/sample - loss: 0.4826 - accuracy: 0.8824 - val_loss: 0.8048 - val_accuracy: 0.7150\n",
      "Epoch 21/50\n",
      "1568/1599 [============================>.] - ETA: 0s - loss: 0.4780 - accuracy: 0.8846\n",
      "Epoch 00021: val_accuracy did not improve from 0.84500\n",
      "1599/1599 [==============================] - 2s 1ms/sample - loss: 0.4777 - accuracy: 0.8837 - val_loss: 0.8079 - val_accuracy: 0.7850\n",
      "Epoch 22/50\n",
      "1568/1599 [============================>.] - ETA: 0s - loss: 0.4618 - accuracy: 0.8820\n",
      "Epoch 00022: val_accuracy did not improve from 0.84500\n",
      "1599/1599 [==============================] - 2s 1ms/sample - loss: 0.4618 - accuracy: 0.8818 - val_loss: 0.7274 - val_accuracy: 0.7650\n",
      "Epoch 23/50\n",
      "1568/1599 [============================>.] - ETA: 0s - loss: 0.4526 - accuracy: 0.8795\n",
      "Epoch 00023: val_accuracy did not improve from 0.84500\n",
      "1599/1599 [==============================] - 2s 1ms/sample - loss: 0.4523 - accuracy: 0.8806 - val_loss: 0.8377 - val_accuracy: 0.6850\n",
      "Epoch 24/50\n",
      "1536/1599 [===========================>..] - ETA: 0s - loss: 0.4494 - accuracy: 0.8861\n",
      "Epoch 00024: val_accuracy did not improve from 0.84500\n",
      "\n",
      "Epoch 00024: ReduceLROnPlateau reducing learning rate to 0.00019999999494757503.\n",
      "1599/1599 [==============================] - 3s 2ms/sample - loss: 0.4507 - accuracy: 0.8856 - val_loss: 0.9692 - val_accuracy: 0.7350\n",
      "Epoch 25/50\n",
      "1568/1599 [============================>.] - ETA: 0s - loss: 0.4387 - accuracy: 0.8865\n",
      "Epoch 00025: val_accuracy did not improve from 0.84500\n",
      "1599/1599 [==============================] - 3s 2ms/sample - loss: 0.4396 - accuracy: 0.8862 - val_loss: 1.0426 - val_accuracy: 0.6250\n",
      "Epoch 26/50\n",
      "1568/1599 [============================>.] - ETA: 0s - loss: 0.4270 - accuracy: 0.8935\n",
      "Epoch 00026: val_accuracy did not improve from 0.84500\n",
      "1599/1599 [==============================] - 3s 2ms/sample - loss: 0.4280 - accuracy: 0.8924 - val_loss: 1.1041 - val_accuracy: 0.6150\n",
      "Epoch 27/50\n",
      "1568/1599 [============================>.] - ETA: 0s - loss: 0.4349 - accuracy: 0.8852\n",
      "Epoch 00027: val_accuracy did not improve from 0.84500\n",
      "1599/1599 [==============================] - 3s 2ms/sample - loss: 0.4326 - accuracy: 0.8862 - val_loss: 1.2172 - val_accuracy: 0.5950\n",
      "Epoch 28/50\n",
      "1568/1599 [============================>.] - ETA: 0s - loss: 0.4240 - accuracy: 0.9005\n",
      "Epoch 00028: val_accuracy did not improve from 0.84500\n",
      "1599/1599 [==============================] - 3s 2ms/sample - loss: 0.4228 - accuracy: 0.9012 - val_loss: 0.6282 - val_accuracy: 0.7750\n",
      "Epoch 29/50\n",
      "1536/1599 [===========================>..] - ETA: 0s - loss: 0.3917 - accuracy: 0.9076\n",
      "Epoch 00029: val_accuracy did not improve from 0.84500\n",
      "1599/1599 [==============================] - 3s 2ms/sample - loss: 0.3903 - accuracy: 0.9074 - val_loss: 1.1339 - val_accuracy: 0.6350\n",
      "Epoch 30/50\n",
      "1568/1599 [============================>.] - ETA: 0s - loss: 0.3962 - accuracy: 0.9037\n",
      "Epoch 00030: val_accuracy did not improve from 0.84500\n",
      "1599/1599 [==============================] - 3s 2ms/sample - loss: 0.3984 - accuracy: 0.9031 - val_loss: 0.7342 - val_accuracy: 0.7850\n",
      "Epoch 31/50\n",
      "1568/1599 [============================>.] - ETA: 0s - loss: 0.3784 - accuracy: 0.9114\n",
      "Epoch 00031: val_accuracy did not improve from 0.84500\n",
      "1599/1599 [==============================] - 3s 2ms/sample - loss: 0.3834 - accuracy: 0.9093 - val_loss: 0.7259 - val_accuracy: 0.7450\n",
      "Epoch 32/50\n",
      "1568/1599 [============================>.] - ETA: 0s - loss: 0.4010 - accuracy: 0.9011\n",
      "Epoch 00032: val_accuracy did not improve from 0.84500\n",
      "1599/1599 [==============================] - 3s 2ms/sample - loss: 0.4027 - accuracy: 0.8993 - val_loss: 0.7322 - val_accuracy: 0.7700\n",
      "Epoch 33/50\n",
      "1568/1599 [============================>.] - ETA: 0s - loss: 0.4058 - accuracy: 0.9005\n",
      "Epoch 00033: val_accuracy did not improve from 0.84500\n",
      "1599/1599 [==============================] - 3s 2ms/sample - loss: 0.4069 - accuracy: 0.8993 - val_loss: 0.7611 - val_accuracy: 0.6850\n",
      "Epoch 34/50\n",
      "1568/1599 [============================>.] - ETA: 0s - loss: 0.3646 - accuracy: 0.9177\n",
      "Epoch 00034: val_accuracy did not improve from 0.84500\n",
      "\n",
      "Epoch 00034: ReduceLROnPlateau reducing learning rate to 9.999999747378752e-05.\n",
      "1599/1599 [==============================] - 3s 2ms/sample - loss: 0.3633 - accuracy: 0.9181 - val_loss: 0.7297 - val_accuracy: 0.7700\n",
      "Epoch 35/50\n",
      "1568/1599 [============================>.] - ETA: 0s - loss: 0.3540 - accuracy: 0.9126\n",
      "Epoch 00035: val_accuracy did not improve from 0.84500\n",
      "1599/1599 [==============================] - 3s 2ms/sample - loss: 0.3540 - accuracy: 0.9131 - val_loss: 0.7214 - val_accuracy: 0.8000\n",
      "Epoch 36/50\n",
      "1568/1599 [============================>.] - ETA: 0s - loss: 0.3613 - accuracy: 0.9152\n",
      "Epoch 00036: val_accuracy did not improve from 0.84500\n",
      "1599/1599 [==============================] - 3s 2ms/sample - loss: 0.3620 - accuracy: 0.9156 - val_loss: 0.8827 - val_accuracy: 0.7650\n",
      "Epoch 37/50\n",
      "1536/1599 [===========================>..] - ETA: 0s - loss: 0.3482 - accuracy: 0.9219\n",
      "Epoch 00037: val_accuracy did not improve from 0.84500\n",
      "1599/1599 [==============================] - 2s 2ms/sample - loss: 0.3535 - accuracy: 0.9187 - val_loss: 0.7896 - val_accuracy: 0.8050\n",
      "Epoch 38/50\n",
      "1536/1599 [===========================>..] - ETA: 0s - loss: 0.3513 - accuracy: 0.9193\n",
      "Epoch 00038: val_accuracy did not improve from 0.84500\n",
      "1599/1599 [==============================] - 2s 1ms/sample - loss: 0.3502 - accuracy: 0.9193 - val_loss: 0.8703 - val_accuracy: 0.7650\n",
      "Epoch 39/50\n",
      "1536/1599 [===========================>..] - ETA: 0s - loss: 0.3317 - accuracy: 0.9303\n",
      "Epoch 00039: val_accuracy did not improve from 0.84500\n",
      "1599/1599 [==============================] - 2s 1ms/sample - loss: 0.3322 - accuracy: 0.9300 - val_loss: 0.7415 - val_accuracy: 0.8050\n",
      "Epoch 40/50\n",
      "1536/1599 [===========================>..] - ETA: 0s - loss: 0.3148 - accuracy: 0.9355\n",
      "Epoch 00040: val_accuracy did not improve from 0.84500\n",
      "1599/1599 [==============================] - 2s 1ms/sample - loss: 0.3156 - accuracy: 0.9343 - val_loss: 0.7714 - val_accuracy: 0.8050\n",
      "Epoch 41/50\n",
      "1568/1599 [============================>.] - ETA: 0s - loss: 0.3381 - accuracy: 0.9228\n",
      "Epoch 00041: val_accuracy did not improve from 0.84500\n",
      "1599/1599 [==============================] - 2s 1ms/sample - loss: 0.3414 - accuracy: 0.9212 - val_loss: 0.9880 - val_accuracy: 0.7350\n",
      "Epoch 42/50\n",
      "1568/1599 [============================>.] - ETA: 0s - loss: 0.3271 - accuracy: 0.9273\n",
      "Epoch 00042: val_accuracy did not improve from 0.84500\n",
      "1599/1599 [==============================] - 2s 1ms/sample - loss: 0.3288 - accuracy: 0.9275 - val_loss: 0.9284 - val_accuracy: 0.7150\n",
      "Epoch 43/50\n",
      "1568/1599 [============================>.] - ETA: 0s - loss: 0.3345 - accuracy: 0.9190\n",
      "Epoch 00043: val_accuracy did not improve from 0.84500\n",
      "1599/1599 [==============================] - 2s 2ms/sample - loss: 0.3321 - accuracy: 0.9206 - val_loss: 1.3801 - val_accuracy: 0.6400\n",
      "Epoch 44/50\n",
      "1536/1599 [===========================>..] - ETA: 0s - loss: 0.3299 - accuracy: 0.9180\n",
      "Epoch 00044: val_accuracy did not improve from 0.84500\n",
      "\n",
      "Epoch 00044: ReduceLROnPlateau reducing learning rate to 4.999999873689376e-05.\n",
      "1599/1599 [==============================] - 2s 1ms/sample - loss: 0.3282 - accuracy: 0.9193 - val_loss: 1.0496 - val_accuracy: 0.7150\n",
      "Epoch 45/50\n",
      "1568/1599 [============================>.] - ETA: 0s - loss: 0.3117 - accuracy: 0.9349\n",
      "Epoch 00045: val_accuracy did not improve from 0.84500\n",
      "1599/1599 [==============================] - 2s 1ms/sample - loss: 0.3101 - accuracy: 0.9356 - val_loss: 0.9839 - val_accuracy: 0.7400\n",
      "Epoch 46/50\n",
      "1568/1599 [============================>.] - ETA: 0s - loss: 0.3025 - accuracy: 0.9381\n",
      "Epoch 00046: val_accuracy did not improve from 0.84500\n",
      "1599/1599 [==============================] - 2s 1ms/sample - loss: 0.3048 - accuracy: 0.9368 - val_loss: 1.0932 - val_accuracy: 0.7450\n",
      "Epoch 47/50\n",
      "1536/1599 [===========================>..] - ETA: 0s - loss: 0.2937 - accuracy: 0.9395\n",
      "Epoch 00047: val_accuracy did not improve from 0.84500\n",
      "1599/1599 [==============================] - 2s 2ms/sample - loss: 0.2990 - accuracy: 0.9362 - val_loss: 1.2743 - val_accuracy: 0.7050\n",
      "Epoch 48/50\n",
      "1568/1599 [============================>.] - ETA: 0s - loss: 0.3062 - accuracy: 0.9362\n",
      "Epoch 00048: val_accuracy did not improve from 0.84500\n",
      "1599/1599 [==============================] - 2s 1ms/sample - loss: 0.3046 - accuracy: 0.9368 - val_loss: 1.0309 - val_accuracy: 0.7500\n",
      "Epoch 49/50\n",
      "1536/1599 [===========================>..] - ETA: 0s - loss: 0.3054 - accuracy: 0.9349\n",
      "Epoch 00049: val_accuracy did not improve from 0.84500\n",
      "1599/1599 [==============================] - 2s 1ms/sample - loss: 0.3028 - accuracy: 0.9350 - val_loss: 0.8549 - val_accuracy: 0.7850\n",
      "Epoch 50/50\n",
      "1536/1599 [===========================>..] - ETA: 0s - loss: 0.2975 - accuracy: 0.9408\n",
      "Epoch 00050: val_accuracy did not improve from 0.84500\n",
      "1599/1599 [==============================] - 3s 2ms/sample - loss: 0.3018 - accuracy: 0.9393 - val_loss: 0.8076 - val_accuracy: 0.7900\n"
     ]
    }
   ],
   "source": [
    "model, history  = train_model(X_train, y_train, X_valid, y_valid)"
   ]
  },
  {
   "cell_type": "code",
   "execution_count": 57,
   "metadata": {},
   "outputs": [
    {
     "name": "stdout",
     "output_type": "stream",
     "text": [
      "dict_keys(['loss', 'accuracy', 'val_loss', 'val_accuracy', 'lr'])\n"
     ]
    },
    {
     "data": {
      "image/png": "[encoded data removed]",
      "text/plain": [
       "<Figure size 432x288 with 1 Axes>"
      ]
     },
     "metadata": {
      "needs_background": "light"
     },
     "output_type": "display_data"
    },
    {
     "data": {
      "image/png": "[encoded data removed]",
      "text/plain": [
       "<Figure size 432x288 with 1 Axes>"
      ]
     },
     "metadata": {
      "needs_background": "light"
     },
     "output_type": "display_data"
    }
   ],
   "source": [
    "show_summary_stats(history)"
   ]
  },
  {
   "cell_type": "code",
   "execution_count": null,
   "metadata": {},
   "outputs": [],
   "source": []
  }
 ],
 "metadata": {
  "kernelspec": {
   "display_name": "Python 3",
   "language": "python",
   "name": "python3"
  },
  "language_info": {
   "codemirror_mode": {
    "name": "ipython",
    "version": 3
   },
   "file_extension": ".py",
   "mimetype": "text/x-python",
   "name": "python",
   "nbconvert_exporter": "python",
   "pygments_lexer": "ipython3",
   "version": "3.7.4"
  }
 },
 "nbformat": 4,
 "nbformat_minor": 4
}
