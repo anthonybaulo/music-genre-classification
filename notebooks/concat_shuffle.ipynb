{
 "cells": [
  {
   "cell_type": "code",
   "execution_count": 2,
   "metadata": {},
   "outputs": [],
   "source": [
    "import os\n",
    "import numpy as np\n",
    "import librosa\n",
    "import librosa.display\n",
    "import pandas as pd\n",
    "import matplotlib.pyplot as plt\n",
    "from pathlib import Path"
   ]
  },
  {
   "cell_type": "code",
   "execution_count": 13,
   "metadata": {},
   "outputs": [],
   "source": [
    "META_DIR = Path('../data/fma_metadata')\n",
    "AUDIO_DIR = Path('../data/fma_small')\n",
    "CONVERTED_DIR = Path('../data/converted')"
   ]
  },
  {
   "cell_type": "markdown",
   "metadata": {},
   "source": [
    "## When comparing genres, concatenate and shuffle"
   ]
  },
  {
   "cell_type": "code",
   "execution_count": 39,
   "metadata": {},
   "outputs": [],
   "source": [
    "def shuffle(X, y):\n",
    "    assert len(X) == len(y)\n",
    "    p = np.random.permutation(len(X))\n",
    "    return X[p], y[p]"
   ]
  },
  {
   "cell_type": "code",
   "execution_count": 76,
   "metadata": {},
   "outputs": [],
   "source": [
    "def concat_and_shuffle(dir_names, split):\n",
    "    '''\n",
    "    dir_names are directory names INSIDE of the CONVERTED_DIR\n",
    "        eg. '0 - rock', '1 - inst'\n",
    "    split: 'train', 'valid', or 'test'\n",
    "    '''\n",
    "    Xs = []\n",
    "    ys = []\n",
    "\n",
    "    for dir_name in dir_names:\n",
    "        npz_dir = CONVERTED_DIR/dir_name\n",
    "        tag = dir_name[4:]\n",
    "        fname = '{}_{}.npz'.format(split, tag)\n",
    "        filepath = npz_dir/fname\n",
    "\n",
    "        npzfile = np.load(filepath)\n",
    "        X = npzfile['X']\n",
    "        y = npzfile['y']\n",
    "\n",
    "        Xs.append(X)\n",
    "        ys.append(y)\n",
    "    \n",
    "    X = np.vstack(Xs)\n",
    "    y = np.hstack(ys)\n",
    "    \n",
    "    X, y = shuffle(X, y)\n",
    "    \n",
    "    return X, y\n",
    "            "
   ]
  },
  {
   "cell_type": "code",
   "execution_count": null,
   "metadata": {},
   "outputs": [],
   "source": []
  }
 ],
 "metadata": {
  "kernelspec": {
   "display_name": "Python [conda env:tf2]",
   "language": "python",
   "name": "conda-env-tf2-py"
  },
  "language_info": {
   "codemirror_mode": {
    "name": "ipython",
    "version": 3
   },
   "file_extension": ".py",
   "mimetype": "text/x-python",
   "name": "python",
   "nbconvert_exporter": "python",
   "pygments_lexer": "ipython3",
   "version": "3.7.0"
  }
 },
 "nbformat": 4,
 "nbformat_minor": 4
}
