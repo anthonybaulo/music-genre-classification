{
 "cells": [
  {
   "cell_type": "code",
   "execution_count": 2,
   "metadata": {},
   "outputs": [],
   "source": [
    "import os\n",
    "import numpy as np\n",
    "import librosa\n",
    "import librosa.display\n",
    "import pandas as pd\n",
    "import matplotlib.pyplot as plt\n",
    "from pathlib import Path"
   ]
  },
  {
   "cell_type": "code",
   "execution_count": 13,
   "metadata": {},
   "outputs": [],
   "source": [
    "META_DIR = Path('../data/fma_metadata')\n",
    "AUDIO_DIR = Path('../data/fma_small')\n",
    "CONVERTED_DIR = Path('../data/converted')"
   ]
  },
  {
   "cell_type": "code",
   "execution_count": 21,
   "metadata": {},
   "outputs": [
    {
     "name": "stdout",
     "output_type": "stream",
     "text": [
      "(200, 640, 128) (200,)\n"
     ]
    }
   ],
   "source": [
    "npzfile = np.load(CONVERTED_DIR/'rock_inst/test_arr.npz')\n",
    "X_train = npzfile['X']\n",
    "y_train = npzfile['y']\n",
    "print(X_train.shape, y_train.shape)\n",
    "\n",
    "rock_mask = y_train == 0\n",
    "\n",
    "X_train_rock = X_train[rock_mask]\n",
    "y_train_rock = y_train[rock_mask]\n",
    "\n",
    "np.savez(CONVERTED_DIR/'0 - rock/test_rock.npz', X=X_train_rock, y=y_train_rock)\n",
    "\n",
    "inst_mask = y_train == 1\n",
    "\n",
    "X_train_inst = X_train[inst_mask]\n",
    "y_train_inst = y_train[inst_mask]\n",
    "\n",
    "np.savez(CONVERTED_DIR/'1 - inst/test_inst.npz', X=X_train_inst, y=y_train_inst)"
   ]
  },
  {
   "cell_type": "code",
   "execution_count": 29,
   "metadata": {
    "jupyter": {
     "source_hidden": true
    }
   },
   "outputs": [],
   "source": [
    "npzfile = np.load(CONVERTED_DIR/'rock_hiphop/test_arr.npz')\n",
    "X_train = npzfile['X']\n",
    "y_train = npzfile['y']\n",
    "\n",
    "hip_mask = y_train == 1\n",
    "\n",
    "X_hip = X_train[hip_mask]\n",
    "y_hip = y_train[hip_mask]\n",
    "\n",
    "y_hip = y_hip * 2\n",
    "y_hip[:10]\n",
    "\n",
    "np.savez(CONVERTED_DIR/'2 - hiphop/test_hiphop.npz', X=X_hip, y=y_hip)"
   ]
  },
  {
   "cell_type": "markdown",
   "metadata": {},
   "source": [
    "## When comparing genres, concatenate and shuffle"
   ]
  },
  {
   "cell_type": "code",
   "execution_count": 39,
   "metadata": {},
   "outputs": [],
   "source": [
    "def shuffle(X, y):\n",
    "    assert len(X) == len(y)\n",
    "    p = np.random.permutation(len(X))\n",
    "    return X[p], y[p]"
   ]
  },
  {
   "cell_type": "code",
   "execution_count": 76,
   "metadata": {},
   "outputs": [],
   "source": [
    "def concat_and_shuffle(dir_names, split):\n",
    "    '''\n",
    "    dir_names are directory names INSIDE of the CONVERTED_DIR\n",
    "    split: 'train', 'valid', or 'test'\n",
    "    '''\n",
    "    Xs = []\n",
    "    ys = []\n",
    "\n",
    "    for dir_name in dir_names:\n",
    "        npz_dir = CONVERTED_DIR/dir_name\n",
    "        tag = dir_name[4:]\n",
    "        fname = '{}_{}.npz'.format(split, tag)\n",
    "        filepath = npz_dir/fname\n",
    "\n",
    "        npzfile = np.load(filepath)\n",
    "        X = npzfile['X']\n",
    "        y = npzfile['y']\n",
    "\n",
    "        Xs.append(X)\n",
    "        ys.append(y)\n",
    "    \n",
    "    X = np.vstack(Xs)\n",
    "    y = np.hstack(ys)\n",
    "    \n",
    "    X, y = shuffle(X, y)\n",
    "    \n",
    "    return X, y\n",
    "            "
   ]
  },
  {
   "cell_type": "code",
   "execution_count": 77,
   "metadata": {},
   "outputs": [],
   "source": [
    "dir_names = ['0 - rock', '2 - hiphop']\n",
    "\n",
    "X_test, y_test = concat_and_shuffle(dir_names, 'test')"
   ]
  },
  {
   "cell_type": "code",
   "execution_count": 78,
   "metadata": {},
   "outputs": [
    {
     "data": {
      "text/plain": [
       "array([0, 2, 0, 2, 2, 2, 0, 2, 2, 2])"
      ]
     },
     "execution_count": 78,
     "metadata": {},
     "output_type": "execute_result"
    }
   ],
   "source": [
    "y_test[:10]"
   ]
  },
  {
   "cell_type": "code",
   "execution_count": 1,
   "metadata": {
    "collapsed": true,
    "jupyter": {
     "outputs_hidden": true
    }
   },
   "outputs": [
    {
     "ename": "NameError",
     "evalue": "name 'np' is not defined",
     "output_type": "error",
     "traceback": [
      "\u001b[0;31m---------------------------------------------------------------------------\u001b[0m",
      "\u001b[0;31mNameError\u001b[0m                                 Traceback (most recent call last)",
      "\u001b[0;32m<ipython-input-1-66a8ad8787fb>\u001b[0m in \u001b[0;36m<module>\u001b[0;34m\u001b[0m\n\u001b[1;32m      1\u001b[0m \u001b[0;31m# Example of concatenation\u001b[0m\u001b[0;34m\u001b[0m\u001b[0;34m\u001b[0m\u001b[0;34m\u001b[0m\u001b[0m\n\u001b[0;32m----> 2\u001b[0;31m \u001b[0mX_train\u001b[0m \u001b[0;34m=\u001b[0m \u001b[0mnp\u001b[0m\u001b[0;34m.\u001b[0m\u001b[0mconcatenate\u001b[0m\u001b[0;34m(\u001b[0m\u001b[0;34m(\u001b[0m\u001b[0mX_train1\u001b[0m\u001b[0;34m,\u001b[0m \u001b[0mX_train2\u001b[0m\u001b[0;34m,\u001b[0m \u001b[0mX_train3\u001b[0m\u001b[0;34m,\u001b[0m \u001b[0mX_train4\u001b[0m\u001b[0;34m)\u001b[0m\u001b[0;34m,\u001b[0m \u001b[0maxis\u001b[0m \u001b[0;34m=\u001b[0m \u001b[0;36m0\u001b[0m\u001b[0;34m)\u001b[0m\u001b[0;34m\u001b[0m\u001b[0;34m\u001b[0m\u001b[0m\n\u001b[0m\u001b[1;32m      3\u001b[0m \u001b[0my_train\u001b[0m \u001b[0;34m=\u001b[0m \u001b[0mnp\u001b[0m\u001b[0;34m.\u001b[0m\u001b[0mconcatenate\u001b[0m\u001b[0;34m(\u001b[0m\u001b[0;34m(\u001b[0m\u001b[0my_train1\u001b[0m\u001b[0;34m,\u001b[0m \u001b[0my_train2\u001b[0m\u001b[0;34m,\u001b[0m \u001b[0my_train3\u001b[0m\u001b[0;34m,\u001b[0m \u001b[0my_train4\u001b[0m\u001b[0;34m)\u001b[0m\u001b[0;34m,\u001b[0m \u001b[0maxis\u001b[0m \u001b[0;34m=\u001b[0m \u001b[0;36m0\u001b[0m\u001b[0;34m)\u001b[0m\u001b[0;34m\u001b[0m\u001b[0;34m\u001b[0m\u001b[0m\n\u001b[1;32m      4\u001b[0m \u001b[0mprint\u001b[0m\u001b[0;34m(\u001b[0m\u001b[0mX_train\u001b[0m\u001b[0;34m.\u001b[0m\u001b[0mshape\u001b[0m\u001b[0;34m,\u001b[0m \u001b[0my_train\u001b[0m\u001b[0;34m.\u001b[0m\u001b[0mshape\u001b[0m\u001b[0;34m)\u001b[0m\u001b[0;34m\u001b[0m\u001b[0;34m\u001b[0m\u001b[0m\n",
      "\u001b[0;31mNameError\u001b[0m: name 'np' is not defined"
     ]
    }
   ],
   "source": [
    "# Example of concatenation\n",
    "\n",
    "npzfile = np.load(CONVERTED_DIR/'rock_inst/test_arr.npz')\n",
    "X_train = npzfile['X']\n",
    "y_train = npzfile['y']\n",
    "\n",
    "X = np.concatenate((X_train1, X_train2, X_train3, X_train4), axis = 0)\n",
    "y = np.concatenate((y_train1, y_train2, y_train3, y_train4), axis = 0)\n",
    "print(X_train.shape, y_train.shape)"
   ]
  },
  {
   "cell_type": "code",
   "execution_count": null,
   "metadata": {},
   "outputs": [],
   "source": [
    "# Example of shuffle\n",
    "X_shuf, y_shuf = shuffle(X_train, y_train)"
   ]
  },
  {
   "cell_type": "code",
   "execution_count": null,
   "metadata": {},
   "outputs": [],
   "source": []
  }
 ],
 "metadata": {
  "kernelspec": {
   "display_name": "Python [conda env:tf2]",
   "language": "python",
   "name": "conda-env-tf2-py"
  },
  "language_info": {
   "codemirror_mode": {
    "name": "ipython",
    "version": 3
   },
   "file_extension": ".py",
   "mimetype": "text/x-python",
   "name": "python",
   "nbconvert_exporter": "python",
   "pygments_lexer": "ipython3",
   "version": "3.7.0"
  }
 },
 "nbformat": 4,
 "nbformat_minor": 4
}
