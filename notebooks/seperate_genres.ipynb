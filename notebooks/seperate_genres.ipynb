{
 "cells": [
  {
   "cell_type": "code",
   "execution_count": 2,
   "metadata": {},
   "outputs": [],
   "source": [
    "import os\n",
    "import numpy as np\n",
    "import librosa\n",
    "import librosa.display\n",
    "import pandas as pd\n",
    "import matplotlib.pyplot as plt\n",
    "from pathlib import Path"
   ]
  },
  {
   "cell_type": "code",
   "execution_count": 13,
   "metadata": {},
   "outputs": [],
   "source": [
    "META_DIR = Path('../data/fma_metadata')\n",
    "AUDIO_DIR = Path('../data/fma_small')\n",
    "CONVERTED_DIR = Path('../data/converted')"
   ]
  },
  {
   "cell_type": "code",
   "execution_count": 21,
   "metadata": {},
   "outputs": [
    {
     "name": "stdout",
     "output_type": "stream",
     "text": [
      "(200, 640, 128) (200,)\n"
     ]
    }
   ],
   "source": [
    "npzfile = np.load(CONVERTED_DIR/'rock_inst/test_arr.npz')\n",
    "X_train = npzfile['X']\n",
    "y_train = npzfile['y']\n",
    "print(X_train.shape, y_train.shape)\n",
    "\n",
    "rock_mask = y_train == 0\n",
    "\n",
    "X_train_rock = X_train[rock_mask]\n",
    "y_train_rock = y_train[rock_mask]\n",
    "\n",
    "np.savez(CONVERTED_DIR/'0 - rock/test_rock.npz', X=X_train_rock, y=y_train_rock)\n",
    "\n",
    "inst_mask = y_train == 1\n",
    "\n",
    "X_train_inst = X_train[inst_mask]\n",
    "y_train_inst = y_train[inst_mask]\n",
    "\n",
    "np.savez(CONVERTED_DIR/'1 - inst/test_inst.npz', X=X_train_inst, y=y_train_inst)"
   ]
  },
  {
   "cell_type": "code",
   "execution_count": 29,
   "metadata": {},
   "outputs": [],
   "source": [
    "npzfile = np.load(CONVERTED_DIR/'rock_hiphop/test_arr.npz')\n",
    "X_train = npzfile['X']\n",
    "y_train = npzfile['y']\n",
    "\n",
    "hip_mask = y_train == 1\n",
    "\n",
    "X_hip = X_train[hip_mask]\n",
    "y_hip = y_train[hip_mask]\n",
    "\n",
    "y_hip = y_hip * 2\n",
    "y_hip[:10]\n",
    "\n",
    "np.savez(CONVERTED_DIR/'2 - hiphop/test_hiphop.npz', X=X_hip, y=y_hip)"
   ]
  },
  {
   "cell_type": "code",
   "execution_count": null,
   "metadata": {},
   "outputs": [],
   "source": []
  }
 ],
 "metadata": {
  "kernelspec": {
   "display_name": "Python [conda env:tf2]",
   "language": "python",
   "name": "conda-env-tf2-py"
  },
  "language_info": {
   "codemirror_mode": {
    "name": "ipython",
    "version": 3
   },
   "file_extension": ".py",
   "mimetype": "text/x-python",
   "name": "python",
   "nbconvert_exporter": "python",
   "pygments_lexer": "ipython3",
   "version": "3.7.0"
  }
 },
 "nbformat": 4,
 "nbformat_minor": 4
}
